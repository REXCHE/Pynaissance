{
  "nbformat": 4,
  "nbformat_minor": 0,
  "metadata": {
    "colab": {
      "name": "Pandas_Guide.ipynb",
      "provenance": [],
      "collapsed_sections": [],
      "authorship_tag": "ABX9TyPiWi4aDzNk0Pa5qexkOw8y",
      "include_colab_link": true
    },
    "kernelspec": {
      "name": "python3",
      "display_name": "Python 3"
    }
  },
  "cells": [
    {
      "cell_type": "markdown",
      "metadata": {
        "id": "view-in-github",
        "colab_type": "text"
      },
      "source": [
        "<a href=\"https://colab.research.google.com/github/conquerv0/Pynaissance/blob/master/1.%20Basic%20Framework/Pandas_Guide.ipynb\" target=\"_parent\"><img src=\"https://colab.research.google.com/assets/colab-badge.svg\" alt=\"Open In Colab\"/></a>"
      ]
    },
    {
      "cell_type": "markdown",
      "metadata": {
        "id": "2EosN10U8WDU",
        "colab_type": "text"
      },
      "source": [
        "# **Data Analysis with Pandas**\n",
        "\n",
        "Pandas provides a range of toolkit for data analysis through the two basic pandas data strucutures: DataFrame and Series. This guide introduces the basic characteristics of the two classes and explores the capacity Pandas provides through these two classes and other powerful functions. \n"
      ]
    },
    {
      "cell_type": "markdown",
      "metadata": {
        "id": "L_v8Uv4X-fmB",
        "colab_type": "text"
      },
      "source": [
        "**I. DataFrame**\n",
        "\n",
        "The DataFrame class can efficiently handle data in tabular form, similar to a relational database and an Excel spreadsheet. \n"
      ]
    },
    {
      "cell_type": "code",
      "metadata": {
        "id": "zLPSt9wH8TnW",
        "colab_type": "code",
        "colab": {
          "base_uri": "https://localhost:8080/",
          "height": 173
        },
        "outputId": "e37459ab-f328-4870-971f-3168b4180c72"
      },
      "source": [
        "import pandas as pd\n",
        "# Defining a dataframe with specified column label and index values.\n",
        "df = pd.DataFrame([400, 200, 90, 300], \n",
        "                  columns=['Price'], \n",
        "                  index=['a', 'b', 'c', 'd'])\n",
        "\n",
        "# Index and Columns attribute and object.\n",
        "df.index\n",
        "df.columns\n",
        "\n",
        "# Get value at the specified index\n",
        "df.loc['c']\n",
        "df.iloc[1:3]\n",
        "\n",
        "# Calculate the sum of a column\n",
        "df.sum()\n",
        "\n",
        "# Use apply method to calculate in a vectorized fashion\n",
        "df.apply(lambda x: x ** 2)\n",
        "df**2 \n",
        "\n",
        "# Modifying dataframe by adding columns of different object, \n",
        "# even df object is possible. The indices will be aligned automatically.\n",
        "df['put/call'] = (0.3, 0.5, 0.8, 0.2)\n",
        "df['ticker'] = pd.DataFrame(['TSLA', 'AMD', 'AAPL', 'BABA'], \n",
        "                            index=['a', 'c', 'b', 'd'])\n",
        "\n",
        "\"\"\"\n",
        "Note that appending other data to the pandas dataframe work similarly.\n",
        "However, appending some data structure such as dictionary, \n",
        "incomplete data can results in loss of index information \n",
        "and NaN values respectively.\n",
        "\"\"\"\n",
        "\n",
        "df\n",
        "\n",
        "# Calculate the mean over the columns specified.\n",
        "df[['Price','put/call']].mean()\n",
        "df[['Price','put/call']].std()"
      ],
      "execution_count": null,
      "outputs": [
        {
          "output_type": "execute_result",
          "data": {
            "text/html": [
              "<div>\n",
              "<style scoped>\n",
              "    .dataframe tbody tr th:only-of-type {\n",
              "        vertical-align: middle;\n",
              "    }\n",
              "\n",
              "    .dataframe tbody tr th {\n",
              "        vertical-align: top;\n",
              "    }\n",
              "\n",
              "    .dataframe thead th {\n",
              "        text-align: right;\n",
              "    }\n",
              "</style>\n",
              "<table border=\"1\" class=\"dataframe\">\n",
              "  <thead>\n",
              "    <tr style=\"text-align: right;\">\n",
              "      <th></th>\n",
              "      <th>Price</th>\n",
              "      <th>put/call</th>\n",
              "      <th>ticker</th>\n",
              "    </tr>\n",
              "  </thead>\n",
              "  <tbody>\n",
              "    <tr>\n",
              "      <th>a</th>\n",
              "      <td>400</td>\n",
              "      <td>0.3</td>\n",
              "      <td>TSLA</td>\n",
              "    </tr>\n",
              "    <tr>\n",
              "      <th>b</th>\n",
              "      <td>200</td>\n",
              "      <td>0.5</td>\n",
              "      <td>AAPL</td>\n",
              "    </tr>\n",
              "    <tr>\n",
              "      <th>c</th>\n",
              "      <td>90</td>\n",
              "      <td>0.8</td>\n",
              "      <td>AMD</td>\n",
              "    </tr>\n",
              "    <tr>\n",
              "      <th>d</th>\n",
              "      <td>300</td>\n",
              "      <td>0.2</td>\n",
              "      <td>BABA</td>\n",
              "    </tr>\n",
              "  </tbody>\n",
              "</table>\n",
              "</div>"
            ],
            "text/plain": [
              "   Price  put/call ticker\n",
              "a    400       0.3   TSLA\n",
              "b    200       0.5   AAPL\n",
              "c     90       0.8    AMD\n",
              "d    300       0.2   BABA"
            ]
          },
          "metadata": {
            "tags": []
          },
          "execution_count": 3
        }
      ]
    },
    {
      "cell_type": "code",
      "metadata": {
        "id": "Q8x_byhdz-O9",
        "colab_type": "code",
        "colab": {}
      },
      "source": [
        "import numpy as np\n",
        "\n",
        "# Set up a normally distributed random number ndarray.\n",
        "np.random.seed(100)\n",
        "a = np.random.standard_normal((9,4))\n",
        "\n",
        "# Creating the dataframe from ndarray object.\n",
        "df = pd.Dataframe(a)\n",
        "\n",
        "# This process can be \"undone\", that is, ndarray can be created from df.\n",
        "df.values\n",
        "np.array(df)"
      ],
      "execution_count": null,
      "outputs": []
    },
    {
      "cell_type": "markdown",
      "metadata": {
        "id": "iPWDqCYF0eSG",
        "colab_type": "text"
      },
      "source": [
        "DateTimeIndex object can be generated by date_range function. The frequency parameter that can be taken are as followed:\n",
        "\n",
        "B Business day frequency\n",
        "\n",
        "C Custom business day frequency\n",
        "\n",
        "D Calendar day frequency\n"
      ]
    },
    {
      "cell_type": "markdown",
      "metadata": {
        "id": "CL553BX15vsy",
        "colab_type": "text"
      },
      "source": [
        "**2. Basic Analytics**"
      ]
    },
    {
      "cell_type": "code",
      "metadata": {
        "id": "Q76rP0gd55kY",
        "colab_type": "code",
        "colab": {}
      },
      "source": [
        "# Get metainformation regarding the data.\n",
        "df.info()\n",
        "\n",
        "# Get summary statistics per columns. \n",
        "df.describe()\n",
        "\n",
        "# Calculate differents sums and means.\n",
        "df.sum()\n",
        "df.mean()\n",
        "df.mean(axis=0)\n",
        "\n",
        "# Row-wise mean\n",
        "df.mean(axis=1)\n",
        "\n",
        "# Column-wise cumulative mean.\n",
        "df.cumsum()"
      ],
      "execution_count": null,
      "outputs": []
    },
    {
      "cell_type": "markdown",
      "metadata": {
        "id": "Y4yv4n6WlDIl",
        "colab_type": "text"
      },
      "source": [
        "In general, Pandas DataFrame object also support NumPy Universal functions, similar to applying such operations to an ndarray objects that contain the same type of data."
      ]
    },
    {
      "cell_type": "code",
      "metadata": {
        "id": "IRRXqgKElJ8g",
        "colab_type": "code",
        "colab": {}
      },
      "source": [
        "# Column-wise mean\n",
        "np.mean(df)\n",
        "\n",
        "# Element-wise natural logarithm\n",
        "np.log(df)\n",
        "\n",
        "# Element-wise square root for the absolute values.\n",
        "np.sqrt(abs(df))"
      ],
      "execution_count": null,
      "outputs": []
    }
  ]
}