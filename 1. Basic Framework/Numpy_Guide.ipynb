{
  "nbformat": 4,
  "nbformat_minor": 0,
  "metadata": {
    "colab": {
      "name": "Numpy-Guide.ipynb",
      "provenance": [],
      "authorship_tag": "ABX9TyPzNMH6eJg2qIN/RJw0OUNN",
      "include_colab_link": true
    },
    "kernelspec": {
      "name": "python3",
      "display_name": "Python 3"
    }
  },
  "cells": [
    {
      "cell_type": "markdown",
      "metadata": {
        "id": "view-in-github",
        "colab_type": "text"
      },
      "source": [
        "<a href=\"https://colab.research.google.com/github/conquerv0/Pynaissance/blob/master/1.%20Basic%20Framework/Numpy_Guide.ipynb\" target=\"_parent\"><img src=\"https://colab.research.google.com/assets/colab-badge.svg\" alt=\"Open In Colab\"/></a>"
      ]
    },
    {
      "cell_type": "markdown",
      "metadata": {
        "id": "5CXhS0HrNtTP",
        "colab_type": "text"
      },
      "source": [
        "**Computation with NumPy**\n",
        "\n",
        "Built-in array based object such its limited features rendered it less performance-oriented that the more specialized NumPy arrays. This module will illustrate some powerful features of NumPy that makes this class highly useful in quantitative finance. \n",
        "\n",
        "**1. Basic Operation**\n"
      ]
    },
    {
      "cell_type": "code",
      "metadata": {
        "id": "TnTFtXlmNhVF",
        "colab_type": "code",
        "colab": {
          "base_uri": "https://localhost:8080/",
          "height": 34
        },
        "outputId": "c00f3ff2-d58c-47b3-e2df-710c4fb550dd"
      },
      "source": [
        "import numpy as np\n",
        "a = np.array([1, 2, 3, 4, 5, 6])\n",
        "a\n",
        "new_a = np.arange(2, 20, 2)\n",
        "new_a\n",
        "\n",
        "a[:2]\n",
        "\n",
        "# The sum of all elements in the array.\n",
        "a.sum()\n",
        "\n",
        "# The standard deviation of the elements.\n",
        "a.std()\n",
        "\n",
        "# The cumulative sum of all elements (starting at index 0)\n",
        "a.cumsum()"
      ],
      "execution_count": 2,
      "outputs": [
        {
          "output_type": "execute_result",
          "data": {
            "text/plain": [
              "array([ 1,  3,  6, 10, 15, 21])"
            ]
          },
          "metadata": {
            "tags": []
          },
          "execution_count": 2
        }
      ]
    },
    {
      "cell_type": "markdown",
      "metadata": {
        "id": "o6O7ezVJSUGO",
        "colab_type": "text"
      },
      "source": [
        "**2. NumPy Vectorized Operation**\n",
        "\n",
        "Most importantly, **ndarray** objects define mathematical operations for vectorized objects, and have high performance for universal functions on the array."
      ]
    },
    {
      "cell_type": "code",
      "metadata": {
        "id": "MrksMblQT-PK",
        "colab_type": "code",
        "colab": {
          "base_uri": "https://localhost:8080/",
          "height": 84
        },
        "outputId": "79f920d4-ca21-4a94-bddf-bc92ec75944d"
      },
      "source": [
        "np.exp(a)\n",
        "np.sqrt(a)\n",
        "np.sqrt(2.5)\n",
        "# Although math.sqrt(2.5) effectively complete the same thing as above. It cannot be applied to a ndarray object directly\n",
        "\n",
        "import math\n",
        "# math.sqrt(a)\n",
        "\n",
        "# We can apply magic command to time the universal function in the different packages to compare performance.\n",
        "%timeit np.sqrt(8)\n",
        "%timeit math.sqrt(8)"
      ],
      "execution_count": 4,
      "outputs": [
        {
          "output_type": "stream",
          "text": [
            "The slowest run took 18.64 times longer than the fastest. This could mean that an intermediate result is being cached.\n",
            "1000000 loops, best of 3: 1.07 µs per loop\n",
            "The slowest run took 31.28 times longer than the fastest. This could mean that an intermediate result is being cached.\n",
            "10000000 loops, best of 3: 74.7 ns per loop\n"
          ],
          "name": "stdout"
        }
      ]
    },
    {
      "cell_type": "markdown",
      "metadata": {
        "id": "wmbaZIONVeia",
        "colab_type": "text"
      },
      "source": [
        "**3. Multi-Dimensional Operations**"
      ]
    },
    {
      "cell_type": "code",
      "metadata": {
        "id": "G63HuDs2W9Mi",
        "colab_type": "code",
        "colab": {}
      },
      "source": [
        "v = np.array([a, a*2])\n",
        "\n",
        "# Indexing the second row\n",
        "v[1]\n",
        "\n",
        "# Indexing the second column.\n",
        "v[:, 1]\n",
        "\n",
        "# Calculate the sum of all values\n",
        "v.sum()\n",
        "\n",
        "# Calculate the sum along the first axis\n",
        "v.sum(axis=0)\n",
        "\n",
        "# Calculate the sum along the second axis.\n",
        "v.sum(axis=1)"
      ],
      "execution_count": null,
      "outputs": []
    },
    {
      "cell_type": "markdown",
      "metadata": {
        "id": "3eLBWaHSYS6v",
        "colab_type": "text"
      },
      "source": [
        "To use ndarrays, we usualy setup the arrays, then populate it with data points later. "
      ]
    }
  ]
}