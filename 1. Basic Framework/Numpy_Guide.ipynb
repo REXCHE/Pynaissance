{
  "nbformat": 4,
  "nbformat_minor": 0,
  "metadata": {
    "colab": {
      "name": "Numpy-Guide.ipynb",
      "provenance": [],
      "authorship_tag": "ABX9TyMAKbse9RT0AtEph66OJ8aD",
      "include_colab_link": true
    },
    "kernelspec": {
      "name": "python3",
      "display_name": "Python 3"
    }
  },
  "cells": [
    {
      "cell_type": "markdown",
      "metadata": {
        "id": "view-in-github",
        "colab_type": "text"
      },
      "source": [
        "<a href=\"https://colab.research.google.com/github/conquerv0/Pynaissance/blob/master/1.%20Basic%20Framework/Numpy_Guide.ipynb\" target=\"_parent\"><img src=\"https://colab.research.google.com/assets/colab-badge.svg\" alt=\"Open In Colab\"/></a>"
      ]
    },
    {
      "cell_type": "markdown",
      "metadata": {
        "id": "5CXhS0HrNtTP"
      },
      "source": [
        "**Computation with NumPy**\n",
        "\n",
        "Built-in array based object such its limited features rendered it less performance-oriented that the more specialized NumPy arrays. This module will illustrate some powerful features of NumPy that makes this class highly useful in quantitative finance. \n",
        "\n",
        "**1. Basic Operation**\n"
      ]
    },
    {
      "cell_type": "code",
      "metadata": {
        "id": "TnTFtXlmNhVF",
        "outputId": "34dd0d34-78d5-4438-cd6c-fa85058bfab3",
        "colab": {
          "base_uri": "https://localhost:8080/",
          "height": 34
        }
      },
      "source": [
        "import numpy as np\n",
        "a = np.array([1, 2, 3, 4, 5, 6])\n",
        "a\n",
        "new_a = np.arange(2, 20, 2)\n",
        "new_a\n",
        "\n",
        "a[:2]\n",
        "\n",
        "# The sum of all elements in the array.\n",
        "a.sum()\n",
        "\n",
        "# The standard deviation of the elements.\n",
        "a.std()\n",
        "\n",
        "# The cumulative sum of all elements (starting at index 0)\n",
        "a.cumsum()"
      ],
      "execution_count": 1,
      "outputs": [
        {
          "output_type": "execute_result",
          "data": {
            "text/plain": [
              "array([ 1,  3,  6, 10, 15, 21])"
            ]
          },
          "metadata": {
            "tags": []
          },
          "execution_count": 1
        }
      ]
    },
    {
      "cell_type": "markdown",
      "metadata": {
        "id": "o6O7ezVJSUGO"
      },
      "source": [
        "**2. NumPy Vectorized Operation**\n",
        "\n",
        "Most importantly, **ndarray** objects define mathematical operations for vectorized objects, and have high performance for universal functions on the array."
      ]
    },
    {
      "cell_type": "code",
      "metadata": {
        "id": "MrksMblQT-PK",
        "outputId": "eeedb9c3-6f6f-4a07-cbe0-9f1608191b15",
        "colab": {
          "base_uri": "https://localhost:8080/",
          "height": 84
        }
      },
      "source": [
        "np.exp(a)\n",
        "np.sqrt(a)\n",
        "np.sqrt(2.5)\n",
        "# Although math.sqrt(2.5) effectively complete the same thing as above. It cannot be applied to a ndarray object directly\n",
        "\n",
        "import math\n",
        "# math.sqrt(a)\n",
        "\n",
        "# We can apply magic command to time the universal function in the different packages to compare performance.\n",
        "%timeit np.sqrt(8)\n",
        "%timeit math.sqrt(8)"
      ],
      "execution_count": 3,
      "outputs": [
        {
          "output_type": "stream",
          "text": [
            "The slowest run took 26.67 times longer than the fastest. This could mean that an intermediate result is being cached.\n",
            "1000000 loops, best of 3: 1.19 µs per loop\n",
            "The slowest run took 26.49 times longer than the fastest. This could mean that an intermediate result is being cached.\n",
            "10000000 loops, best of 3: 77.2 ns per loop\n"
          ],
          "name": "stdout"
        }
      ]
    },
    {
      "cell_type": "markdown",
      "metadata": {
        "id": "wmbaZIONVeia"
      },
      "source": [
        "**3. Multi-Dimensional Operations**"
      ]
    },
    {
      "cell_type": "code",
      "metadata": {
        "id": "G63HuDs2W9Mi",
        "outputId": "ed816e9c-4540-47cd-cfbe-1aed9aefd69f",
        "colab": {
          "base_uri": "https://localhost:8080/",
          "height": 34
        }
      },
      "source": [
        "v = np.array([a, a*2])\n",
        "\n",
        "# Indexing the second row\n",
        "v[1]\n",
        "\n",
        "# Indexing the second column.\n",
        "v[:, 1]\n",
        "\n",
        "# Calculate the sum of all values\n",
        "v.sum()\n",
        "\n",
        "# Calculate the sum along the first axis\n",
        "v.sum(axis=0)\n",
        "\n",
        "# Calculate the sum along the second axis.\n",
        "v.sum(axis=1)"
      ],
      "execution_count": 4,
      "outputs": [
        {
          "output_type": "execute_result",
          "data": {
            "text/plain": [
              "array([21, 42])"
            ]
          },
          "metadata": {
            "tags": []
          },
          "execution_count": 4
        }
      ]
    },
    {
      "cell_type": "markdown",
      "metadata": {
        "id": "3eLBWaHSYS6v"
      },
      "source": [
        "To use ndarrays, we usualy setup the arrays, then populate it with data points later. "
      ]
    },
    {
      "cell_type": "code",
      "metadata": {
        "id": "elCHOjDvaZui",
        "outputId": "70b2a987-0344-430c-a113-f31ac8668886",
        "colab": {
          "base_uri": "https://localhost:8080/",
          "height": 84
        }
      },
      "source": [
        "# Populating ndarrays.\n",
        "\n",
        "# Creates a ndarray prepopulated with zeroes\n",
        "b = np.zeros((2, 3), dtype='i', order='C')\n",
        "c = np.zeros_like(b, dtype='f16', order='C')\n",
        "c\n",
        "\n",
        "# Creates an ndarray object with anything (depends on the bits present in the memory)\n",
        "d = np.empty((2,3,2))\n",
        "e = np.empty_like(c)\n",
        "e\n",
        "\n",
        "# Creates a sqaure matrix as an ndarray object with the diagonal populated by ones\n",
        "f = np.eye(5)\n",
        "f\n",
        "\n",
        "# Creates a one-dimensional ndarray object with evenly spaced intervals between numbers; \n",
        "# parameters: start, end, and num(of elements)\n",
        "g = np.linspace(8, 16, 20)\n",
        "g"
      ],
      "execution_count": 5,
      "outputs": [
        {
          "output_type": "execute_result",
          "data": {
            "text/plain": [
              "array([ 8.        ,  8.42105263,  8.84210526,  9.26315789,  9.68421053,\n",
              "       10.10526316, 10.52631579, 10.94736842, 11.36842105, 11.78947368,\n",
              "       12.21052632, 12.63157895, 13.05263158, 13.47368421, 13.89473684,\n",
              "       14.31578947, 14.73684211, 15.15789474, 15.57894737, 16.        ])"
            ]
          },
          "metadata": {
            "tags": []
          },
          "execution_count": 5
        }
      ]
    },
    {
      "cell_type": "code",
      "metadata": {
        "id": "r01QDAneamgX",
        "outputId": "abb70fcf-c6f4-4f21-8a08-9fb565fdf410",
        "colab": {
          "base_uri": "https://localhost:8080/",
          "height": 34
        }
      },
      "source": [
        "# Useful attributes\n",
        "\n",
        "# The number of elements\n",
        "g.size \n",
        "\n",
        "# The number of bytes used to represent one elements\n",
        "g.itemsize\n",
        "\n",
        "# The number of dimensions\n",
        "g.ndim\n",
        "\n",
        "# The shape of the ndarray object.\n",
        "g.shape"
      ],
      "execution_count": 6,
      "outputs": [
        {
          "output_type": "execute_result",
          "data": {
            "text/plain": [
              "(20,)"
            ]
          },
          "metadata": {
            "tags": []
          },
          "execution_count": 6
        }
      ]
    },
    {
      "cell_type": "markdown",
      "metadata": {
        "id": "02J6iwXUeugn"
      },
      "source": [
        "**4. Reshaping and Resizing**\n",
        "\n",
        "Despite its immutable nature, there are mean to reshape and resize such object. Reshaping usualy provides another view on the data, while resizing generally creates a temporary object to work with."
      ]
    },
    {
      "cell_type": "code",
      "metadata": {
        "id": "C5BaxbxUfDwF",
        "outputId": "0eab8f69-27be-48e4-9c89-292480aeb86b",
        "colab": {
          "base_uri": "https://localhost:8080/",
          "height": 151
        }
      },
      "source": [
        "h = np.arange(16)\n",
        "h.shape\n",
        "\n",
        "np.shape(h)\n",
        "\n",
        "h.reshape((2, 8))\n",
        "k = h.reshape((8,2))\n",
        "k"
      ],
      "execution_count": 7,
      "outputs": [
        {
          "output_type": "execute_result",
          "data": {
            "text/plain": [
              "array([[ 0,  1],\n",
              "       [ 2,  3],\n",
              "       [ 4,  5],\n",
              "       [ 6,  7],\n",
              "       [ 8,  9],\n",
              "       [10, 11],\n",
              "       [12, 13],\n",
              "       [14, 15]])"
            ]
          },
          "metadata": {
            "tags": []
          },
          "execution_count": 7
        }
      ]
    },
    {
      "cell_type": "markdown",
      "metadata": {
        "id": "w-arReDT6Xxo"
      },
      "source": [
        "Note that the total number of elements in the ndarray object is unchanged. However, for a resizing operation, the number of elements can change as it either decreases or increases as a result of down-sizing and up-sizing."
      ]
    },
    {
      "cell_type": "code",
      "metadata": {
        "id": "oDJQbqjD6-nF",
        "outputId": "3a758f0e-4ed2-44ab-95b6-f0469ae8c91d",
        "colab": {
          "base_uri": "https://localhost:8080/",
          "height": 101
        }
      },
      "source": [
        "# two dimension, down-sizing\n",
        "np.resize(k, (1,5))\n",
        "\n",
        "# two dimensions, up-sizing.\n",
        "np.resize(k, (5,4))"
      ],
      "execution_count": 8,
      "outputs": [
        {
          "output_type": "execute_result",
          "data": {
            "text/plain": [
              "array([[ 0,  1,  2,  3],\n",
              "       [ 4,  5,  6,  7],\n",
              "       [ 8,  9, 10, 11],\n",
              "       [12, 13, 14, 15],\n",
              "       [ 0,  1,  2,  3]])"
            ]
          },
          "metadata": {
            "tags": []
          },
          "execution_count": 8
        }
      ]
    },
    {
      "cell_type": "markdown",
      "metadata": {
        "id": "VsvFSvu67WMt"
      },
      "source": [
        "**Stacking** is another special operation that allows for horizontal or vertical combination or two ndarray objects. Note that dimensions of the combining ndarrays must be the same. "
      ]
    },
    {
      "cell_type": "code",
      "metadata": {
        "id": "FpIecYtV8O18",
        "outputId": "cf89c405-a8e9-403d-d807-ac922826a298",
        "colab": {
          "base_uri": "https://localhost:8080/",
          "height": 84
        }
      },
      "source": [
        "h\n",
        "# horizontal stacking\n",
        "np.hstack((h, 2*h))\n",
        "\n",
        "# vertical stacking\n",
        "np.vstack((h, 0.5*h))"
      ],
      "execution_count": 9,
      "outputs": [
        {
          "output_type": "execute_result",
          "data": {
            "text/plain": [
              "array([[ 0. ,  1. ,  2. ,  3. ,  4. ,  5. ,  6. ,  7. ,  8. ,  9. , 10. ,\n",
              "        11. , 12. , 13. , 14. , 15. ],\n",
              "       [ 0. ,  0.5,  1. ,  1.5,  2. ,  2.5,  3. ,  3.5,  4. ,  4.5,  5. ,\n",
              "         5.5,  6. ,  6.5,  7. ,  7.5]])"
            ]
          },
          "metadata": {
            "tags": []
          },
          "execution_count": 9
        }
      ]
    },
    {
      "cell_type": "markdown",
      "metadata": {
        "id": "DiFQ2fXQ8fTN"
      },
      "source": [
        "**Flattening** can be used to flatten multidimensional ndarray objects into one-dimensional on, either through row-by-row(C order), or through column-by-column (F order)"
      ]
    },
    {
      "cell_type": "code",
      "metadata": {
        "id": "MHNTdMP78yxE",
        "outputId": "d4862b46-30cb-4bcd-eb7d-587e4352d1f7",
        "colab": {
          "base_uri": "https://localhost:8080/",
          "height": 34
        }
      },
      "source": [
        "h\n",
        "\n",
        "# Default flatten order is C\n",
        "h.flatten()\n",
        "h.flatten(order='F')\n",
        "\n",
        "# The flat attribute gives a flat iterator\n",
        "for i in h.flat:\n",
        "  print(i, end=',')\n",
        "\n",
        "# Alternative flatten method, ravel()\n",
        "for i in h.ravel(order='F'):\n",
        "  print(i, end=',')"
      ],
      "execution_count": 10,
      "outputs": [
        {
          "output_type": "stream",
          "text": [
            "0,1,2,3,4,5,6,7,8,9,10,11,12,13,14,15,0,1,2,3,4,5,6,7,8,9,10,11,12,13,14,15,"
          ],
          "name": "stdout"
        }
      ]
    },
    {
      "cell_type": "markdown",
      "metadata": {
        "id": "_axo3tr8_xnY"
      },
      "source": [
        "**5. Boolean Arrays**\n",
        "\n",
        "Evaluating conditions on ndarray objects by default yield ndarray object(dtype is bool). "
      ]
    },
    {
      "cell_type": "code",
      "metadata": {
        "id": "R6WH4nznAHl7",
        "outputId": "2f89deee-5183-4ea6-ea6c-461757249a07",
        "colab": {
          "base_uri": "https://localhost:8080/",
          "height": 34
        }
      },
      "source": [
        "h\n",
        "# Is value greater than...?\n",
        "h > 8\n",
        "# Is value smaller or equal to?\n",
        "h <= 6\n",
        "\n",
        "# Present true and false as integer value\n",
        "(h==5).astype(int)\n",
        "\n",
        "# Filterred arrays for values that satisfy the conditions\n",
        "h[(h>6)&(h<=16)]\n",
        "h[(h<4)|(h>=16)] "
      ],
      "execution_count": 11,
      "outputs": [
        {
          "output_type": "execute_result",
          "data": {
            "text/plain": [
              "array([0, 1, 2, 3])"
            ]
          },
          "metadata": {
            "tags": []
          },
          "execution_count": 11
        }
      ]
    },
    {
      "cell_type": "markdown",
      "metadata": {
        "id": "w7VZjy1hBEeF"
      },
      "source": [
        "**np.where** function can define actions that depends on conditions being met for the ndarray objects. Note that applying this will create a new ndarray object of the same shape as the original. "
      ]
    },
    {
      "cell_type": "code",
      "metadata": {
        "id": "e8fzb4YcBg18",
        "outputId": "3a7335ee-1e8b-465f-83f9-4caa8bf2214a",
        "colab": {
          "base_uri": "https://localhost:8080/",
          "height": 50
        }
      },
      "source": [
        "# Set value to even or odd in this new array depends on \n",
        "# whether the value is even or odd.\n",
        "np.where(h % 2 ==0, 'even', 'odd')\n",
        "\n",
        "# Set the elements to doube the value if true, half if false.\n",
        "np.where(h <= 8, h*2, h/2)"
      ],
      "execution_count": 12,
      "outputs": [
        {
          "output_type": "execute_result",
          "data": {
            "text/plain": [
              "array([ 0. ,  2. ,  4. ,  6. ,  8. , 10. , 12. , 14. , 16. ,  4.5,  5. ,\n",
              "        5.5,  6. ,  6.5,  7. ,  7.5])"
            ]
          },
          "metadata": {
            "tags": []
          },
          "execution_count": 12
        }
      ]
    },
    {
      "cell_type": "markdown",
      "metadata": {
        "id": "ZFP-EmpRIwIZ"
      },
      "source": [
        "**6. Vectorization**\n",
        "\n",
        "Vevtorization is a algorithm strategy that attempts to get more compact code that execute faster. As a basic examples, operation can be element-wise added. **broadcasting** is also supported to combine object of the different shapes within a a single line of code operation."
      ]
    },
    {
      "cell_type": "code",
      "metadata": {
        "id": "PU1u3ptdNBgl",
        "outputId": "6f472b8a-4353-47d4-ab54-f6f97c34ec98",
        "colab": {
          "base_uri": "https://localhost:8080/",
          "height": 67
        }
      },
      "source": [
        "np.random.seed(520)\n",
        "r = np.arange(9).reshape((3,3))\n",
        "s = np.arange(9).reshape((3,3))* 0.5\n",
        "\n",
        "# element-wise addition\n",
        "r+s\n",
        "\n",
        "# scalar addition\n",
        "r+6\n",
        "\n",
        "# scalar multiplication\n",
        "2*r\n",
        "\n",
        "# linear transformation\n",
        "2*r+6\n",
        "\n",
        "# matrix multiplication\n",
        "r@s"
      ],
      "execution_count": 16,
      "outputs": [
        {
          "output_type": "execute_result",
          "data": {
            "text/plain": [
              "array([[ 7.5,  9. , 10.5],\n",
              "       [21. , 27. , 33. ],\n",
              "       [34.5, 45. , 55.5]])"
            ]
          },
          "metadata": {
            "tags": []
          },
          "execution_count": 16
        }
      ]
    },
    {
      "cell_type": "markdown",
      "metadata": {
        "id": "gmHFuXlJ09VR"
      },
      "source": [
        "An important property of ndarry is known as memory layout. It is an optional argument(parameter) that can be used to specifiy which elements of the array get stored next to each other. This minor difference can have large impacts on large arrays and performance-targetting algorithms.\n",
        "\n",
        "Summing up over C-ordered ndarray object is faster both over rows and over columns as an absolute speed advantage. But generally, C-ordered ndarray object sum up over rows relatively faster than over columns. F-ordered ndarray sum up over columns faster compared to summing up over rows. "
      ]
    }
  ]
}