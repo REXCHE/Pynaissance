{
  "nbformat": 4,
  "nbformat_minor": 0,
  "metadata": {
    "colab": {
      "name": "Numpy-Guide.ipynb",
      "provenance": [],
      "authorship_tag": "ABX9TyOYWPPYVFfa/pe4bQ7tisxZ",
      "include_colab_link": true
    },
    "kernelspec": {
      "name": "python3",
      "display_name": "Python 3"
    }
  },
  "cells": [
    {
      "cell_type": "markdown",
      "metadata": {
        "id": "view-in-github",
        "colab_type": "text"
      },
      "source": [
        "<a href=\"https://colab.research.google.com/github/conquerv0/Pynaissance/blob/master/1.%20Basic%20Framework/Numpy_Guide.ipynb\" target=\"_parent\"><img src=\"https://colab.research.google.com/assets/colab-badge.svg\" alt=\"Open In Colab\"/></a>"
      ]
    },
    {
      "cell_type": "markdown",
      "metadata": {
        "id": "5CXhS0HrNtTP",
        "colab_type": "text"
      },
      "source": [
        "**Computation with NumPy**\n",
        "\n",
        "Built-in array based object such its limited features rendered it less performance-oriented that the more specialized NumPy arrays. This module will illustrate some powerful features of NumPy that makes this class highly useful in quantitative finance. \n",
        "\n",
        "**1. Basic Operation**\n"
      ]
    },
    {
      "cell_type": "code",
      "metadata": {
        "id": "TnTFtXlmNhVF",
        "colab_type": "code",
        "colab": {
          "base_uri": "https://localhost:8080/",
          "height": 34
        },
        "outputId": "c00f3ff2-d58c-47b3-e2df-710c4fb550dd"
      },
      "source": [
        "import numpy as np\n",
        "a = np.array([1, 2, 3, 4, 5, 6])\n",
        "a\n",
        "new_a = np.arange(2, 20, 2)\n",
        "new_a\n",
        "\n",
        "a[:2]\n",
        "\n",
        "# The sum of all elements in the array.\n",
        "a.sum()\n",
        "\n",
        "# The standard deviation of the elements.\n",
        "a.std()\n",
        "\n",
        "# The cumulative sum of all elements (starting at index 0)\n",
        "a.cumsum()"
      ],
      "execution_count": null,
      "outputs": [
        {
          "output_type": "execute_result",
          "data": {
            "text/plain": [
              "array([ 1,  3,  6, 10, 15, 21])"
            ]
          },
          "metadata": {
            "tags": []
          },
          "execution_count": 2
        }
      ]
    },
    {
      "cell_type": "markdown",
      "metadata": {
        "id": "o6O7ezVJSUGO",
        "colab_type": "text"
      },
      "source": [
        "**2. NumPy Vectorized Operation**\n",
        "\n",
        "Most importantly, **ndarray** objects define mathematical operations for vectorized objects, and have high performance for universal functions on the array."
      ]
    },
    {
      "cell_type": "code",
      "metadata": {
        "id": "MrksMblQT-PK",
        "colab_type": "code",
        "colab": {
          "base_uri": "https://localhost:8080/",
          "height": 84
        },
        "outputId": "79f920d4-ca21-4a94-bddf-bc92ec75944d"
      },
      "source": [
        "np.exp(a)\n",
        "np.sqrt(a)\n",
        "np.sqrt(2.5)\n",
        "# Although math.sqrt(2.5) effectively complete the same thing as above. It cannot be applied to a ndarray object directly\n",
        "\n",
        "import math\n",
        "# math.sqrt(a)\n",
        "\n",
        "# We can apply magic command to time the universal function in the different packages to compare performance.\n",
        "%timeit np.sqrt(8)\n",
        "%timeit math.sqrt(8)"
      ],
      "execution_count": null,
      "outputs": [
        {
          "output_type": "stream",
          "text": [
            "The slowest run took 18.64 times longer than the fastest. This could mean that an intermediate result is being cached.\n",
            "1000000 loops, best of 3: 1.07 µs per loop\n",
            "The slowest run took 31.28 times longer than the fastest. This could mean that an intermediate result is being cached.\n",
            "10000000 loops, best of 3: 74.7 ns per loop\n"
          ],
          "name": "stdout"
        }
      ]
    },
    {
      "cell_type": "markdown",
      "metadata": {
        "id": "wmbaZIONVeia",
        "colab_type": "text"
      },
      "source": [
        "**3. Multi-Dimensional Operations**"
      ]
    },
    {
      "cell_type": "code",
      "metadata": {
        "id": "G63HuDs2W9Mi",
        "colab_type": "code",
        "colab": {}
      },
      "source": [
        "v = np.array([a, a*2])\n",
        "\n",
        "# Indexing the second row\n",
        "v[1]\n",
        "\n",
        "# Indexing the second column.\n",
        "v[:, 1]\n",
        "\n",
        "# Calculate the sum of all values\n",
        "v.sum()\n",
        "\n",
        "# Calculate the sum along the first axis\n",
        "v.sum(axis=0)\n",
        "\n",
        "# Calculate the sum along the second axis.\n",
        "v.sum(axis=1)"
      ],
      "execution_count": null,
      "outputs": []
    },
    {
      "cell_type": "markdown",
      "metadata": {
        "id": "3eLBWaHSYS6v",
        "colab_type": "text"
      },
      "source": [
        "To use ndarrays, we usualy setup the arrays, then populate it with data points later. "
      ]
    },
    {
      "cell_type": "code",
      "metadata": {
        "id": "elCHOjDvaZui",
        "colab_type": "code",
        "colab": {
          "base_uri": "https://localhost:8080/",
          "height": 84
        },
        "outputId": "b831473c-fb99-4a20-a902-02c8c79b3f4f"
      },
      "source": [
        "# Populating ndarrays.\n",
        "\n",
        "# Creates a ndarray prepopulated with zeroes\n",
        "b = np.zeros((2, 3), dtype='i', order='C')\n",
        "c = np.zeros_like(b, dtype='f16', order='C')\n",
        "c\n",
        "\n",
        "# Creates an ndarray object with anything (depends on the bits present in the memory)\n",
        "d = np.empty((2,3,2))\n",
        "e = np.empty_like(c)\n",
        "e\n",
        "\n",
        "# Creates a sqaure matrix as an ndarray object with the diagonal populated by ones\n",
        "f = np.eye(5)\n",
        "f\n",
        "\n",
        "# Creates a one-dimensional ndarray object with evenly spaced intervals between numbers; \n",
        "# parameters: start, end, and num(of elements)\n",
        "g = np.linspace(8, 16, 20)\n",
        "g"
      ],
      "execution_count": null,
      "outputs": [
        {
          "output_type": "execute_result",
          "data": {
            "text/plain": [
              "array([ 8.        ,  8.42105263,  8.84210526,  9.26315789,  9.68421053,\n",
              "       10.10526316, 10.52631579, 10.94736842, 11.36842105, 11.78947368,\n",
              "       12.21052632, 12.63157895, 13.05263158, 13.47368421, 13.89473684,\n",
              "       14.31578947, 14.73684211, 15.15789474, 15.57894737, 16.        ])"
            ]
          },
          "metadata": {
            "tags": []
          },
          "execution_count": 8
        }
      ]
    },
    {
      "cell_type": "code",
      "metadata": {
        "id": "r01QDAneamgX",
        "colab_type": "code",
        "colab": {}
      },
      "source": [
        "# Useful attributes\n",
        "\n",
        "# The number of elements\n",
        "g.size \n",
        "\n",
        "# The number of bytes used to represent one elements\n",
        "g.itemsize\n",
        "\n",
        "# The number of dimensions\n",
        "g.ndim\n",
        "\n",
        "# The shape of the ndarray object.\n",
        "g.shape"
      ],
      "execution_count": null,
      "outputs": []
    },
    {
      "cell_type": "markdown",
      "metadata": {
        "id": "02J6iwXUeugn",
        "colab_type": "text"
      },
      "source": [
        "**4. Reshaping and Resizing**\n",
        "\n",
        "Despite its immutable nature, there are mean to reshape and resize such object. Reshaping usualy provides another view on the data, while resizing generally creates a temporary object to work with."
      ]
    },
    {
      "cell_type": "code",
      "metadata": {
        "id": "C5BaxbxUfDwF",
        "colab_type": "code",
        "colab": {
          "base_uri": "https://localhost:8080/",
          "height": 151
        },
        "outputId": "c4fb6b42-4a7b-4ae3-de09-14e797026980"
      },
      "source": [
        "h = np.arange(16)\n",
        "h.shape\n",
        "\n",
        "np.shape(h)\n",
        "\n",
        "h.reshape((2, 8))\n",
        "k = h.reshape((8,2))\n",
        "k"
      ],
      "execution_count": null,
      "outputs": [
        {
          "output_type": "execute_result",
          "data": {
            "text/plain": [
              "array([[ 0,  1],\n",
              "       [ 2,  3],\n",
              "       [ 4,  5],\n",
              "       [ 6,  7],\n",
              "       [ 8,  9],\n",
              "       [10, 11],\n",
              "       [12, 13],\n",
              "       [14, 15]])"
            ]
          },
          "metadata": {
            "tags": []
          },
          "execution_count": 10
        }
      ]
    }
  ]
}