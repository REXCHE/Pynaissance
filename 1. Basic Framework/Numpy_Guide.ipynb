{
  "nbformat": 4,
  "nbformat_minor": 0,
  "metadata": {
    "colab": {
      "name": "Numpy-Guide.ipynb",
      "provenance": [],
      "authorship_tag": "ABX9TyN5pzFbbu1Y3PawjaVaXfhp",
      "include_colab_link": true
    },
    "kernelspec": {
      "name": "python3",
      "display_name": "Python 3"
    }
  },
  "cells": [
    {
      "cell_type": "markdown",
      "metadata": {
        "id": "view-in-github",
        "colab_type": "text"
      },
      "source": [
        "<a href=\"https://colab.research.google.com/github/conquerv0/Pynaissance/blob/master/1.%20Basic%20Framework/Numpy_Guide.ipynb\" target=\"_parent\"><img src=\"https://colab.research.google.com/assets/colab-badge.svg\" alt=\"Open In Colab\"/></a>"
      ]
    },
    {
      "cell_type": "markdown",
      "metadata": {
        "id": "5CXhS0HrNtTP",
        "colab_type": "text"
      },
      "source": [
        "**Computation with NumPy**\n",
        "\n",
        "Built-in array based object such its limited features rendered it less performance-oriented that the more specialized NumPy arrays. This module will illustrate some powerful features of NumPy that makes this class highly useful in quantitative finance. \n"
      ]
    },
    {
      "cell_type": "code",
      "metadata": {
        "id": "TnTFtXlmNhVF",
        "colab_type": "code",
        "colab": {
          "base_uri": "https://localhost:8080/",
          "height": 34
        },
        "outputId": "c00f3ff2-d58c-47b3-e2df-710c4fb550dd"
      },
      "source": [
        "import numpy as np\n",
        "a = np.array([1, 2, 3, 4, 5, 6])\n",
        "a\n",
        "new_a = np.arange(2, 20, 2)\n",
        "new_a\n",
        "\n",
        "a[:2]\n",
        "\n",
        "# The sum of all elements in the array.\n",
        "a.sum()\n",
        "\n",
        "# The standard deviation of the elements.\n",
        "a.std()\n",
        "\n",
        "# The cumulative sum of all elements (starting at index 0)\n",
        "a.cumsum()"
      ],
      "execution_count": 2,
      "outputs": [
        {
          "output_type": "execute_result",
          "data": {
            "text/plain": [
              "array([ 1,  3,  6, 10, 15, 21])"
            ]
          },
          "metadata": {
            "tags": []
          },
          "execution_count": 2
        }
      ]
    }
  ]
}