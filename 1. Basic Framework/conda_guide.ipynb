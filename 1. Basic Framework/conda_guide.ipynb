{
  "nbformat": 4,
  "nbformat_minor": 0,
  "metadata": {
    "colab": {
      "name": "conda_guide.ipynb",
      "provenance": [],
      "authorship_tag": "ABX9TyN2Lb08vAEx80+AvI+llxAL",
      "include_colab_link": true
    },
    "kernelspec": {
      "name": "python3",
      "display_name": "Python 3"
    }
  },
  "cells": [
    {
      "cell_type": "markdown",
      "metadata": {
        "id": "view-in-github",
        "colab_type": "text"
      },
      "source": [
        "<a href=\"https://colab.research.google.com/github/conquerv0/Pynaissance/blob/master/1.%20Basic%20Framework/conda_guide.ipynb\" target=\"_parent\"><img src=\"https://colab.research.google.com/assets/colab-badge.svg\" alt=\"Open In Colab\"/></a>"
      ]
    },
    {
      "cell_type": "markdown",
      "metadata": {
        "id": "j35wNZDn4Psd",
        "colab_type": "text"
      },
      "source": [
        "# Basic Guide to Conda\n",
        "Conda is a packages management tool for python and is one of the most efficient tolls for processing requests to intall, update and delete python packages. This module will briefly introduce its main features. "
      ]
    },
    {
      "cell_type": "markdown",
      "metadata": {
        "id": "GBtC2n1WAAzd",
        "colab_type": "text"
      },
      "source": [
        "### **I. Packages Management**"
      ]
    },
    {
      "cell_type": "code",
      "metadata": {
        "id": "-SXsYG0u4IHW",
        "colab_type": "code",
        "colab": {
          "base_uri": "https://localhost:8080/",
          "height": 202
        },
        "outputId": "0e081f7e-aa36-45dc-8273-949010039c7b"
      },
      "source": [
        "# Installing MiniConda [Note: This is for jyputer notebook only, local environment should use conda directly]\n",
        "\n",
        "!wget https://repo.anaconda.com/miniconda/Miniconda3-latest-Linux-x86_64.sh\n",
        "# !bash Miniconda.sh -b # installs miniconda\n",
        "# !rm Miniconda.sh # removes the installer\n",
        "\n",
        "# prepends the new path for current session\n",
        "!export PATH=\"/root/miniconda3/bin:$PATH\"\n",
        "\n",
        "# prepends the new path in the shell configuration\n",
        "!echo \"./root/miniconda3/etc/profile.d/conda.sh\">> ~/.bashrc\n",
        "!echo \"conda activates\" >> ~/.bashrc"
      ],
      "execution_count": 4,
      "outputs": [
        {
          "output_type": "stream",
          "text": [
            "--2020-08-12 09:37:27--  https://repo.anaconda.com/miniconda/Miniconda3-latest-Linux-x86_64.sh\n",
            "Resolving repo.anaconda.com (repo.anaconda.com)... 104.16.131.3, 104.16.130.3, 2606:4700::6810:8203, ...\n",
            "Connecting to repo.anaconda.com (repo.anaconda.com)|104.16.131.3|:443... connected.\n",
            "HTTP request sent, awaiting response... 200 OK\n",
            "Length: 93052469 (89M) [application/x-sh]\n",
            "Saving to: ‘Miniconda3-latest-Linux-x86_64.sh.1’\n",
            "\n",
            "\r          Miniconda   0%[                    ]       0  --.-KB/s               \r         Miniconda3  49%[========>           ]  43.79M   219MB/s               \rMiniconda3-latest-L 100%[===================>]  88.74M   243MB/s    in 0.4s    \n",
            "\n",
            "2020-08-12 09:37:27 (243 MB/s) - ‘Miniconda3-latest-Linux-x86_64.sh.1’ saved [93052469/93052469]\n",
            "\n"
          ],
          "name": "stdout"
        }
      ]
    },
    {
      "cell_type": "code",
      "metadata": {
        "id": "A_z3ZbwTA5MV",
        "colab_type": "code",
        "colab": {}
      },
      "source": [
        "# Install Python x.x version\n",
        "!conda install python=x.x\n",
        "\n",
        "# Install Packages\n",
        "!conda install $PACKAGE_NAME\n",
        "\n",
        "# Update Python\n",
        "!conda update python\n",
        "\n",
        "# Update Packages\n",
        "!conda update $PACKAGE_NAME\n",
        "\n",
        "# Delete Packages\n",
        "!conda remove $PACKAGE_NAME\n",
        "\n",
        "# Update Conda\n",
        "!conda update conda\n",
        "\n",
        "# Search Packages\n",
        "!conda search $SEARCH_TERM\n",
        "\n",
        "# List all Packages Installed\n",
        "!conda list"
      ],
      "execution_count": null,
      "outputs": []
    },
    {
      "cell_type": "markdown",
      "metadata": {
        "id": "-9MKG8AK52Ws",
        "colab_type": "text"
      },
      "source": [
        "Such, installing one of the most essential packages in python finance, NumPy, only one line of code will be needed. "
      ]
    },
    {
      "cell_type": "code",
      "metadata": {
        "id": "H97ev9rW5Qkh",
        "colab_type": "code",
        "colab": {
          "base_uri": "https://localhost:8080/",
          "height": 34
        },
        "outputId": "2f9648c1-d873-4143-82a3-165181066b60"
      },
      "source": [
        "!conda install --y numpy"
      ],
      "execution_count": null,
      "outputs": [
        {
          "output_type": "stream",
          "text": [
            "/bin/bash: conda: command not found\n"
          ],
          "name": "stdout"
        }
      ]
    },
    {
      "cell_type": "markdown",
      "metadata": {
        "id": "rZE65b138MTV",
        "colab_type": "text"
      },
      "source": [
        "Note: if above command did not work as expected, below approach generally works."
      ]
    },
    {
      "cell_type": "code",
      "metadata": {
        "id": "LOH1GkAx8s4u",
        "colab_type": "code",
        "colab": {}
      },
      "source": [
        "import sys\n",
        "!conda install --y --prefix {sys.prefix} numpy"
      ],
      "execution_count": null,
      "outputs": []
    },
    {
      "cell_type": "markdown",
      "metadata": {
        "id": "9dKYueLB9O2A",
        "colab_type": "text"
      },
      "source": [
        "Other than the standard packages, relevant package to install:\n",
        "\n",
        "**IPython**\n",
        "improved interactive python shell\n",
        "\n",
        "**Matplotlib**\n",
        "standard plotting tools in python\n",
        "\n",
        "**Numpy**\n",
        "efficient data(array) processing\n",
        "\n",
        "**pandas**\n",
        "used to manage data in tabular format, such as financial time series\n",
        "\n",
        "**scikit-learn**\n",
        "machine learning packages in python\n",
        "\n",
        "**SciPy**\n",
        "A library for scientific computing and various functions."
      ]
    },
    {
      "cell_type": "markdown",
      "metadata": {
        "id": "QGgtx7jRAIx2",
        "colab_type": "text"
      },
      "source": [
        "### **2. Virtural Environment Management.**"
      ]
    },
    {
      "cell_type": "code",
      "metadata": {
        "id": "PlCMss9plZnL",
        "colab_type": "code",
        "colab": {}
      },
      "source": [
        "# Activate Environment\n",
        "!conda activate $ENVIRONMENT_NAME\n",
        "\n",
        "# Deactive Environment\n",
        "!conda deactivate $ENVIRONMENT_NAME\n",
        "\n",
        "# Delete Environment\n",
        "!conda delete $ENVIRONMENT_NAME\n",
        "\n",
        "# Export to Environment Files\n",
        "!conda env export > $FILE_NAME\n",
        "\n",
        "# Create Environment from a File\n",
        "!conda env create -f $FILE_NAME\n",
        "\n",
        "# List all Environment\n",
        "!conda info --envs"
      ],
      "execution_count": null,
      "outputs": []
    },
    {
      "cell_type": "code",
      "metadata": {
        "id": "U2A-vazFmAdQ",
        "colab_type": "code",
        "colab": {}
      },
      "source": [
        "# Take this process of creating an environment as an example:\n",
        "\n",
        "!conda create --name pynaissance python=3.7"
      ],
      "execution_count": null,
      "outputs": []
    }
  ]
}