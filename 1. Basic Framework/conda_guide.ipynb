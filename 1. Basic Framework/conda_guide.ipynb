{
  "nbformat": 4,
  "nbformat_minor": 0,
  "metadata": {
    "colab": {
      "name": "conda_guide.ipynb",
      "provenance": [],
      "authorship_tag": "ABX9TyMQBd4BQCc62Afaqyw0BdFS",
      "include_colab_link": true
    },
    "kernelspec": {
      "name": "python3",
      "display_name": "Python 3"
    }
  },
  "cells": [
    {
      "cell_type": "markdown",
      "metadata": {
        "id": "view-in-github",
        "colab_type": "text"
      },
      "source": [
        "<a href=\"https://colab.research.google.com/github/conquerv0/Pynaissance/blob/master/1.%20Basic%20Framework/conda_guide.ipynb\" target=\"_parent\"><img src=\"https://colab.research.google.com/assets/colab-badge.svg\" alt=\"Open In Colab\"/></a>"
      ]
    },
    {
      "cell_type": "markdown",
      "metadata": {
        "id": "j35wNZDn4Psd",
        "colab_type": "text"
      },
      "source": [
        "# Basic Guide to Conda\n",
        "Conda is a packages management tool for python and is one of the most efficient tolls for processing requests to intall, update and delete python packages. This module will briefly introduce its main features. "
      ]
    },
    {
      "cell_type": "code",
      "metadata": {
        "id": "-SXsYG0u4IHW",
        "colab_type": "code",
        "colab": {
          "base_uri": "https://localhost:8080/",
          "height": 34
        },
        "outputId": "18adbff5-92a4-41b3-f773-b278340a92e7"
      },
      "source": [
        "# Install Python x.x version\n",
        "!conda install python=3.7\n",
        "\n",
        "# Install Packages\n",
        "!conda install $PACKAGE_NAME\n",
        "\n",
        "# Update Python\n",
        "!conda update python\n",
        "\n",
        "# Update Packages\n",
        "!conda update $PACKAGE_NAME\n",
        "\n",
        "# Delete Packages\n",
        "!conda remove $PACKAGE_NAME\n",
        "\n",
        "# Update Conda\n",
        "!conda update conda\n",
        "\n",
        "# Search Packages\n",
        "!conda search $SEARCH_TERM\n",
        "\n",
        "# List all Packages Installed\n",
        "!conda list"
      ],
      "execution_count": 7,
      "outputs": [
        {
          "output_type": "stream",
          "text": [
            "/bin/bash: conda: command not found\n"
          ],
          "name": "stdout"
        }
      ]
    },
    {
      "cell_type": "markdown",
      "metadata": {
        "id": "-9MKG8AK52Ws",
        "colab_type": "text"
      },
      "source": [
        "Such, installing one of the most essential packages in python finance, NumPy, only one line of code will be needed. "
      ]
    },
    {
      "cell_type": "code",
      "metadata": {
        "id": "H97ev9rW5Qkh",
        "colab_type": "code",
        "colab": {
          "base_uri": "https://localhost:8080/",
          "height": 34
        },
        "outputId": "2f9648c1-d873-4143-82a3-165181066b60"
      },
      "source": [
        "!conda install --yes numpy"
      ],
      "execution_count": 9,
      "outputs": [
        {
          "output_type": "stream",
          "text": [
            "/bin/bash: conda: command not found\n"
          ],
          "name": "stdout"
        }
      ]
    },
    {
      "cell_type": "markdown",
      "metadata": {
        "id": "rZE65b138MTV",
        "colab_type": "text"
      },
      "source": [
        "Note: if above command did not work as expected, below approach generally works."
      ]
    },
    {
      "cell_type": "code",
      "metadata": {
        "id": "LOH1GkAx8s4u",
        "colab_type": "code",
        "colab": {}
      },
      "source": [
        "import sys\n",
        "!conda install --yes --prefix {sys.prefix} numpy"
      ],
      "execution_count": null,
      "outputs": []
    },
    {
      "cell_type": "markdown",
      "metadata": {
        "id": "9dKYueLB9O2A",
        "colab_type": "text"
      },
      "source": [
        "Other than the standard packages, relevant package to install:\n",
        "\n",
        "**IPython**\n",
        "improved interactive python shell\n",
        "\n",
        "**Matplotlib**\n",
        "standard plotting tools in python\n",
        "\n",
        "**Numpy**\n",
        "efficient data(array) processing\n",
        "\n",
        "**pandas**\n",
        "used to manage data in tabular format, such as financial time series\n",
        "\n",
        "**scikit-learn**\n",
        "machine learning packages in python\n",
        "\n",
        "**SciPy**\n",
        "A library for scientific computing and various functions."
      ]
    }
  ]
}