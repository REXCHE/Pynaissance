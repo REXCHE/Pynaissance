{
  "nbformat": 4,
  "nbformat_minor": 0,
  "metadata": {
    "colab": {
      "name": "Basic_MaxProfit.ipynb",
      "provenance": [],
      "authorship_tag": "ABX9TyOHNVMIcKhMJwZlIJIgIMMM",
      "include_colab_link": true
    },
    "kernelspec": {
      "name": "python3",
      "display_name": "Python 3"
    }
  },
  "cells": [
    {
      "cell_type": "markdown",
      "metadata": {
        "id": "view-in-github",
        "colab_type": "text"
      },
      "source": [
        "<a href=\"https://colab.research.google.com/github/conquerv0/Pynaissance/blob/master/8.%20Kaggle_Leet/Basic_MaxProfit.ipynb\" target=\"_parent\"><img src=\"https://colab.research.google.com/assets/colab-badge.svg\" alt=\"Open In Colab\"/></a>"
      ]
    },
    {
      "cell_type": "markdown",
      "metadata": {
        "id": "oiP54_PLSuJg"
      },
      "source": [
        "**Basic Buy and Sell Stock, Maximum Profit Problem:**\n",
        "\n",
        "Suppose we have an array prices for which the ith element is the price of a given stock on day i.\n",
        "\n",
        "Design an algorithm to find the maximum profit. You may complete as many transactions as you like (i.e., buy one and sell one share of the stock multiple times).\n",
        "\n",
        "Note: The algo mat not engage in multiple transactions at the same time (i.e., you must sell the stock before you buy again)."
      ]
    },
    {
      "cell_type": "markdown",
      "metadata": {
        "id": "8cjJZwJVTY-8"
      },
      "source": [
        "1. Basic Peak-Trough Approach.\n",
        "\n",
        "As we can engage in mulitple transaction, we want to find every trough in the price array and the peak immediately after the trough so that we can consistently buy low and sell high to attain maximum profits. "
      ]
    },
    {
      "cell_type": "code",
      "metadata": {
        "id": "K5jiPaoRLCUG",
        "outputId": "d5032d86-d111-4295-96f5-449e083b9ad9",
        "colab": {
          "base_uri": "https://localhost:8080/",
          "height": 34
        }
      },
      "source": [
        "def maxProfit(prices) -> int:\n",
        "    \"\"\"\n",
        "    This algorithm finds the peaks and troughs of the whole price vector\n",
        "    to calculate maximum attainable profits while disregarding\n",
        "    \"\"\"\n",
        "    i = 0\n",
        "    peak = prices[0]\n",
        "    trough = prices[0]\n",
        "    profit = 0\n",
        "    period = len(prices)\n",
        "    while i < period - 1:\n",
        "        while i < period - 1 and prices[i] >= prices[i+1]:\n",
        "            i += 1\n",
        "        trough = prices[i]\n",
        "        while i < period - 1 and prices[i] <= prices[i+1]:\n",
        "            i += 1\n",
        "        peak = prices[i]\n",
        "        profit += peak - trough\n",
        "    \n",
        "    return profit\n",
        "\n",
        "data = [1, 3, 1, 5, 2, 6, 3, 2, 9, 0, 5, 1, 6]\n",
        "maxProfit(data)\n"
      ],
      "execution_count": 9,
      "outputs": [
        {
          "output_type": "execute_result",
          "data": {
            "text/plain": [
              "27"
            ]
          },
          "metadata": {
            "tags": []
          },
          "execution_count": 9
        }
      ]
    },
    {
      "cell_type": "markdown",
      "metadata": {
        "id": "Gi8RrkE7T7Dl"
      },
      "source": [
        "2. Simple Greedy Algorithm\n",
        "Alternatively, we buy as long as we know that the price of the stock is higher tomorrow, so that we consistently buy and sell immediately after. Profits are realized each execution day where we know price is higher tomorrow. "
      ]
    },
    {
      "cell_type": "code",
      "metadata": {
        "id": "KaxDy790UVlx",
        "outputId": "1356456b-82b1-4f26-ed5f-40b7ff4ac92b",
        "colab": {
          "base_uri": "https://localhost:8080/",
          "height": 34
        }
      },
      "source": [
        "def maxProfit(prices):\n",
        "\n",
        "    if not prices or len(prices) is 1: return 0\n",
        "    profit = 0\n",
        "    for i in range(1, len(prices)):\n",
        "        if prices[i] > prices[i-1]: profit += prices[i] - prices[i-1]\n",
        "    return profit\n",
        "\n",
        "data = [1, 3, 1, 5, 2, 6, 3, 2, 9, 0, 5, 1, 6]\n",
        "maxProfit(data)"
      ],
      "execution_count": 10,
      "outputs": [
        {
          "output_type": "execute_result",
          "data": {
            "text/plain": [
              "27"
            ]
          },
          "metadata": {
            "tags": []
          },
          "execution_count": 10
        }
      ]
    },
    {
      "cell_type": "markdown",
      "metadata": {
        "id": "1xYK5WIeU154"
      },
      "source": [
        "Why do this algo works? Consider a contiguous subsequence of increasing prices.\n",
        "The profit-maximizing strategy within this subsequence is to buy on the first day and sell on the last day\n",
        "because this is the only strategy that realizes all of the day-to-day gains within the subsequence.\n",
        "\n",
        "Notice further that the entire sequence can be decomposed into a series of\n",
        "maximally-sized contiguous subsequences of increasing prices, some of which might be trivial, i.e., of length 1.\n",
        "It never makes sense to buy in one such subsequence A and then sell in a following subsequence B, since we could\n",
        "always do better by inserting a sale at the end of A and a buy at the beginning of B.\n",
        "\n",
        "Therefore profit can be maximized by identifying each maximally-sized contiguous subsequence of increasing prices,\n",
        "and buying at the beginning of it and selling at the end of it.\n",
        "\n",
        "However, there is more to the story!\n",
        "Because this strategy realizes all of the day-to-day gains within each subsequence, and we have described how\n",
        "the entire sequence can be decomposed into such subsequences, it follows that this strategy\n",
        "realizes all of the day-to-day gains within the entire sequence.\n",
        "Since we are only asked to return the total profit and not the actual transaction log,\n",
        "it suffices to sum together the day-to-day gains across the entire sequence."
      ]
    },
    {
      "cell_type": "markdown",
      "metadata": {
        "id": "cNXQ4xAedoyQ"
      },
      "source": [
        "**Basic Buy and Sell Stock, Maximum Profit Problem with Cool Down**"
      ]
    },
    {
      "cell_type": "code",
      "metadata": {
        "id": "UW7qXuwJeJdY"
      },
      "source": [
        "def maxProfit(prices):\n",
        "    free = 0\n",
        "    have = cool = float('-inf')\n",
        "    for p in prices:\n",
        "        free, have, cool = max(free, cool), max(have, free - p), have + p\n",
        "    return max(free, cool)"
      ],
      "execution_count": null,
      "outputs": []
    }
  ]
}