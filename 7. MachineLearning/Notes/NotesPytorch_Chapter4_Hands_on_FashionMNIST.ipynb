{
  "nbformat": 4,
  "nbformat_minor": 0,
  "metadata": {
    "colab": {
      "name": "NotesPytorch-Chapter4: Hands-on FashionMNIST.ipynb",
      "provenance": [],
      "authorship_tag": "ABX9TyMJqfxqPXLoInA4tWvUS59r",
      "include_colab_link": true
    },
    "kernelspec": {
      "name": "python3",
      "display_name": "Python 3"
    },
    "language_info": {
      "name": "python"
    }
  },
  "cells": [
    {
      "cell_type": "markdown",
      "metadata": {
        "id": "view-in-github",
        "colab_type": "text"
      },
      "source": [
        "<a href=\"https://colab.research.google.com/github/conquerv0/Pynaissance/blob/master/7.%20MachineLearning/Notes/NotesPytorch_Chapter4_Hands_on_FashionMNIST.ipynb\" target=\"_parent\"><img src=\"https://colab.research.google.com/assets/colab-badge.svg\" alt=\"Open In Colab\"/></a>"
      ]
    },
    {
      "cell_type": "markdown",
      "metadata": {
        "id": "V2ZEsmYZwsUP"
      },
      "source": [
        "### Chapter 4: Pytorch实战项目\n",
        "\n",
        "> FashionMNIST数据集中包含已经预先划分好的训练集和测试集，其中训练集共60,000张图像，测试集共10,000张图像。每张图像均为单通道黑白图像，大小为32*32pixel，分属10个类别。"
      ]
    },
    {
      "cell_type": "code",
      "metadata": {
        "id": "6TkdbEZwwhaD"
      },
      "source": [
        "import os\n",
        "import numpy as np\n",
        "import pandas as pd\n",
        "import torch\n",
        "import torch.nn as nn\n",
        "import torch.optim as optim\n",
        "from torch.utils.data import Dataset, DataLoader"
      ],
      "execution_count": null,
      "outputs": []
    },
    {
      "cell_type": "markdown",
      "metadata": {
        "id": "8kU22Q69y5q1"
      },
      "source": [
        "#### 2. Configure Environment and Hyperparameters"
      ]
    },
    {
      "cell_type": "code",
      "metadata": {
        "id": "OB4_tE6cy4Cs"
      },
      "source": [
        "# 配置GPU，这里有两种方式\n",
        "## 方案一：使用os.environ\n",
        "os.environ['CUDA_VISIBLE_DEVICES'] = '0'\n",
        "# 方案二：使用“device”，后续对要使用GPU的变量用.to(device)即可\n",
        "device = torch.device(\"cuda:1\" if torch.cuda.is_available() else \"cpu\")\n",
        "\n",
        "## 配置其他超参数，如batch_size, num_workers, learning rate, 以及总的epochs\n",
        "batch_size = 256\n",
        "num_workers = 4\n",
        "lr = 1e-4\n",
        "epochs = 20"
      ],
      "execution_count": null,
      "outputs": []
    },
    {
      "cell_type": "markdown",
      "metadata": {
        "id": "dijS0SjKzEa0"
      },
      "source": [
        "#### 3. Data: Reading and Loading\n",
        "\n",
        "> 这里同时展示两种方式:\n",
        "\n",
        "下载并使用PyTorch提供的内置数据集\n",
        "从网站下载以csv格式存储的数据，读入并转成预期的格式\n",
        "第一种数据读入方式只适用于常见的数据集，如MNIST，CIFAR10等，PyTorch官方提供了数据下载。这种方式往往适用于快速测试方法（比如测试下某个idea在MNIST数据集上是否有效）\n",
        "第二种数据读入方式需要自己构建Dataset，这对于PyTorch应用于自己的工作中十分重要\n",
        "同时，还需要对数据进行必要的变换，比如说需要将图片统一为一致的大小，以便后续能够输入网络训练；需要将数据格式转为Tensor类，等等。\n",
        "\n",
        "这些变换可以很方便地借助torchvision包来完成，"
      ]
    },
    {
      "cell_type": "code",
      "metadata": {
        "id": "I4YDNNwpzNOC"
      },
      "source": [
        "# 首先设置数据变换\n",
        "from torchvision import transforms\n",
        "\n",
        "image_size = 28\n",
        "data_transform = transforms.Compose([\n",
        "    transforms.ToPILImage(),   # 这一步取决于后续的数据读取方式，如果使用内置数据集则不需要\n",
        "    transforms.Resize(image_size),\n",
        "    transforms.ToTensor()\n",
        "])"
      ],
      "execution_count": null,
      "outputs": []
    },
    {
      "cell_type": "code",
      "metadata": {
        "id": "Yu7eWAyUzP8_"
      },
      "source": [
        "## 读取方式一：使用torchvision自带数据集，下载可能需要一段时间\n",
        "from torchvision import datasets\n",
        "\n",
        "train_data = datasets.FashionMNIST(root='./', train=True, download=True, transform=data_transform)\n",
        "test_data = datasets.FashionMNIST(root='./', train=False, download=True, transform=data_transform)"
      ],
      "execution_count": null,
      "outputs": []
    },
    {
      "cell_type": "code",
      "metadata": {
        "id": "spc_1WMOzSy-"
      },
      "source": [
        "\n",
        "## 读取方式二：读入csv格式的数据，自行构建Dataset类\n",
        "# csv数据下载链接：https://www.kaggle.com/zalando-research/fashionmnist\n",
        "class FMDataset(Dataset):\n",
        "    def __init__(self, df, transform=None):\n",
        "        self.df = df\n",
        "        self.transform = transform\n",
        "        self.images = df.iloc[:,1:].values.astype(np.uint8)\n",
        "        self.labels = df.iloc[:, 0].values\n",
        "        \n",
        "    def __len__(self):\n",
        "        return len(self.images)\n",
        "    \n",
        "    def __getitem__(self, idx):\n",
        "        image = self.images[idx].reshape(28,28,1)\n",
        "        label = int(self.labels[idx])\n",
        "        if self.transform is not None:\n",
        "            image = self.transform(image)\n",
        "        else:\n",
        "            image = torch.tensor(image/255., dtype=torch.float)\n",
        "        label = torch.tensor(label, dtype=torch.long)\n",
        "        return image, label\n",
        "\n",
        "train_df = pd.read_csv(\"./FashionMNIST/fashion-mnist_train.csv\")\n",
        "test_df = pd.read_csv(\"./FashionMNIST/fashion-mnist_test.csv\")\n",
        "train_data = FMDataset(train_df, data_transform)\n",
        "test_data = FMDataset(test_df, data_transform)"
      ],
      "execution_count": null,
      "outputs": []
    },
    {
      "cell_type": "markdown",
      "metadata": {
        "id": "ziqKksjCzYmx"
      },
      "source": [
        "#### 3.2 构建Dataloader类，以便训练测试中加载数据。"
      ]
    },
    {
      "cell_type": "code",
      "metadata": {
        "id": "dxCVutVNzgd7"
      },
      "source": [
        "\n",
        "train_loader = DataLoader(train_data, batch_size=batch_size, shuffle=True, num_workers=num_workers, drop_last=True)\n",
        "test_loader = DataLoader(test_data, batch_size=batch_size, shuffle=False, num_workers=num_workers)"
      ],
      "execution_count": null,
      "outputs": []
    },
    {
      "cell_type": "markdown",
      "metadata": {
        "id": "9j7uskh8zi9s"
      },
      "source": [
        "#### 3.3 Data Exploration and Visualization"
      ]
    },
    {
      "cell_type": "code",
      "metadata": {
        "id": "HKWp5gwkzpFU"
      },
      "source": [
        "import matplotlib.pyplot as plt\n",
        "image, label = next(iter(train_loader))\n",
        "print(image.shape, label.shape)\n",
        "plt.imshow(image[0][0], cmap=\"gray\")"
      ],
      "execution_count": null,
      "outputs": []
    },
    {
      "cell_type": "markdown",
      "metadata": {
        "id": "-NGkjXKRzuNQ"
      },
      "source": [
        "#### 4. Model Design and Implementation"
      ]
    },
    {
      "cell_type": "code",
      "metadata": {
        "id": "TeOoRSWEzzGP"
      },
      "source": [
        "class Net(nn.Module):\n",
        "    def __init__(self):\n",
        "        super(Net, self).__init__()\n",
        "        self.conv = nn.Sequential(\n",
        "            nn.Conv2d(1, 32, 5),\n",
        "            nn.ReLU(),\n",
        "            nn.MaxPool2d(2, stride=2),\n",
        "            nn.Dropout(0.3),\n",
        "            nn.Conv2d(32, 64, 5),\n",
        "            nn.ReLU(),\n",
        "            nn.MaxPool2d(2, stride=2),\n",
        "            nn.Dropout(0.3)\n",
        "        )\n",
        "        self.fc = nn.Sequential(\n",
        "            nn.Linear(64*4*4, 512),\n",
        "            nn.ReLU(),\n",
        "            nn.Linear(512, 10)\n",
        "        )\n",
        "        \n",
        "    def forward(self, x):\n",
        "        x = self.conv(x)\n",
        "        x = x.view(-1, 64*4*4)\n",
        "        x = self.fc(x)\n",
        "        # x = nn.functional.normalize(x)\n",
        "        return x\n",
        "\n",
        "model = Net()\n",
        "model = model.cuda()\n",
        "# model = nn.DataParallel(model).cuda()   # 多卡训练时的写法，之后的课程中会进一步讲解\n"
      ],
      "execution_count": null,
      "outputs": []
    },
    {
      "cell_type": "markdown",
      "metadata": {
        "id": "4-f7c1-6z3H_"
      },
      "source": [
        "#### 5. Loss Function\n",
        "\n",
        "> 使用torch.nn模块自带的CrossEntropy损失\n",
        "PyTorch会自动把整数型的label转为one-hot型，用于计算CE loss\n",
        "这里需要确保label是从0开始的，同时模型不加softmax层（使用logits计算）,这也说明了PyTorch训练中各个部分不是独立的，需要通盘考虑"
      ]
    },
    {
      "cell_type": "code",
      "metadata": {
        "id": "BgSfYu_fz88b"
      },
      "source": [
        "criterion = nn.CrossEntropyLoss()\n",
        "# criterion = nn.CrossEntropyLoss(weight=[1,1,1,1,3,1,1,1,1,1])"
      ],
      "execution_count": null,
      "outputs": []
    },
    {
      "cell_type": "code",
      "metadata": {
        "id": "Cv_Ck1ur0I9D"
      },
      "source": [
        "?nn.CrossEntropyLoss # 这里方便看一下weighting等策略"
      ],
      "execution_count": null,
      "outputs": []
    },
    {
      "cell_type": "markdown",
      "metadata": {
        "id": "Zykej_6f0DbG"
      },
      "source": [
        "#### 6. Optimizer"
      ]
    },
    {
      "cell_type": "code",
      "metadata": {
        "id": "KtB_sOdE0GR9"
      },
      "source": [
        "optimizer = optim.Adam(model.parameters(), lr=0.001)"
      ],
      "execution_count": null,
      "outputs": []
    },
    {
      "cell_type": "markdown",
      "metadata": {
        "id": "3jH_XZnt0MTd"
      },
      "source": [
        "#### 7. Training and Validation\n",
        "\n",
        "> 各自封装成函数，方便后续调用\n",
        "关注两者的主要区别：\n",
        "\n",
        "- 模型状态设置\n",
        "- 是否需要初始化优化器\n",
        "- 是否需要将loss传回到网络\n",
        "- 是否需要每步更新optimizer\n",
        "\n",
        "此外，对于测试或验证过程，可以计算分类准确率。"
      ]
    },
    {
      "cell_type": "code",
      "metadata": {
        "id": "fWImlKIe0PZ2"
      },
      "source": [
        "def train(epoch):\n",
        "    model.train()\n",
        "    train_loss = 0\n",
        "    for data, label in train_loader:\n",
        "        data, label = data.cuda(), label.cuda()\n",
        "        optimizer.zero_grad()\n",
        "        output = model(data)\n",
        "        loss = criterion(output, label)\n",
        "        loss.backward()\n",
        "        optimizer.step()\n",
        "        train_loss += loss.item()*data.size(0)\n",
        "    train_loss = train_loss/len(train_loader.dataset)\n",
        "    print('Epoch: {} \\tTraining Loss: {:.6f}'.format(epoch, train_loss))"
      ],
      "execution_count": null,
      "outputs": []
    },
    {
      "cell_type": "code",
      "metadata": {
        "id": "UAljg_2p0Znd"
      },
      "source": [
        "def val(epoch):       \n",
        "    model.eval()\n",
        "    val_loss = 0\n",
        "    gt_labels = []\n",
        "    pred_labels = []\n",
        "    with torch.no_grad():\n",
        "        for data, label in test_loader:\n",
        "            data, label = data.cuda(), label.cuda()\n",
        "            output = model(data)\n",
        "            preds = torch.argmax(output, 1)\n",
        "            gt_labels.append(label.cpu().data.numpy())\n",
        "            pred_labels.append(preds.cpu().data.numpy())\n",
        "            loss = criterion(output, label)\n",
        "            val_loss += loss.item()*data.size(0)\n",
        "    val_loss = val_loss/len(test_loader.dataset)\n",
        "    gt_labels, pred_labels = np.concatenate(gt_labels), np.concatenate(pred_labels)\n",
        "    acc = np.sum(gt_labels==pred_labels)/len(pred_labels)\n",
        "    print('Epoch: {} \\tValidation Loss: {:.6f}, Accuracy: {:6f}'.format(epoch, val_loss, acc))"
      ],
      "execution_count": null,
      "outputs": []
    },
    {
      "cell_type": "code",
      "metadata": {
        "id": "bjmDqthJ0cS2"
      },
      "source": [
        "for epoch in range(1, epochs+1):\n",
        "    train(epoch)\n",
        "    val(epoch)"
      ],
      "execution_count": null,
      "outputs": []
    },
    {
      "cell_type": "markdown",
      "metadata": {
        "id": "cccqOTK-0e6i"
      },
      "source": [
        "#### 8. Save Model for Further Tuning. "
      ]
    },
    {
      "cell_type": "code",
      "metadata": {
        "id": "At6Gdkjw0jF-"
      },
      "source": [
        "save_path = \"./FahionModel.pkl\"\n",
        "torch.save(model, save_path)"
      ],
      "execution_count": null,
      "outputs": []
    }
  ]
}