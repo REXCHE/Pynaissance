{
  "nbformat": 4,
  "nbformat_minor": 0,
  "metadata": {
    "colab": {
      "name": "Multi-factor Model.ipynb",
      "provenance": [],
      "authorship_tag": "ABX9TyOMSj9Xss2zbCOO+oQdsNUJ"
    },
    "kernelspec": {
      "name": "python3",
      "display_name": "Python 3"
    },
    "language_info": {
      "name": "python"
    }
  },
  "cells": [
    {
      "cell_type": "markdown",
      "metadata": {
        "id": "weV9JQcUnWFl"
      },
      "source": [
        "## Multi-factor Model\n",
        "Author: Victor Xiao\n",
        "\n",
        "__Multi-factor model(MFM)__ is a factor models constructed based on the basis of __Arbitrage Pricing Theory(APT)__. \n",
        "\n",
        "The core concept of __APT__ is that: for any security or portfolio expected return, there is a correlating group of unknown systematic factors; while maintianing the law of one-price, that is, assets class of the same risk-return must subjects to the same price. (Otherwise opportunity for arbitrage arose.) \n",
        "\n",
        "The general formula for APT is as follow: \n",
        "\n",
        "$$r_i = a_i + \\sum^K_{k=1}b_{ik}f_k + \\epsilon$$\n",
        "\n",
        "- Where, $f_k$ is the factor that affects asset return, reflecting the kth risk factor exposure for the asset, known as __risk factor__. \n",
        "- $b_{ik}$ describes the sensitivity of the asset i to factor k, knowns as __factor loading__ coefficient of asset i to factor k.\n",
        "\n",
        "While APT sets the foundational framework for understanding the mechanism that affects the asset, it does not describe what the factors are. After devoting many resources into studying of this problem, Barra proposed the __Barra Multi-factor model__, the baseline multifactor model the industry uses today. "
      ]
    },
    {
      "cell_type": "code",
      "metadata": {
        "id": "jB1T2f1MnTcP"
      },
      "source": [
        ""
      ],
      "execution_count": null,
      "outputs": []
    }
  ]
}