{
  "nbformat": 4,
  "nbformat_minor": 0,
  "metadata": {
    "colab": {
      "name": "Multi-factor Model.ipynb",
      "provenance": [],
      "authorship_tag": "ABX9TyNB7+JyvWygG6GrYqR0cClq"
    },
    "kernelspec": {
      "name": "python3",
      "display_name": "Python 3"
    },
    "language_info": {
      "name": "python"
    }
  },
  "cells": [
    {
      "cell_type": "markdown",
      "metadata": {
        "id": "weV9JQcUnWFl"
      },
      "source": [
        "## Multi-factor Model\n",
        "Author: Victor Xiao\n",
        "\n",
        "__Multi-factor model(MFM)__ is a factor models constructed based on the basis of __Arbitrage Pricing Theory(APT)__. \n",
        "\n",
        "The core concept of __APT__ is that: for any security or portfolio expected return, there is a correlating group of unknown systematic factors; while maintianing the law of one-price, that is, assets class of the same risk-return must subjects to the same price. (Otherwise opportunity for arbitrage arose.) \n",
        "\n",
        "The general formula for APT is as follow: \n",
        "\n",
        "$$r_i = a_i + \\sum^K_{k=1}b_{ik}f_k + \\epsilon$$\n",
        "\n",
        "- Where, $f_k$ is the factor that affects asset return, reflecting the kth risk factor exposure for the asset, known as __risk factor__. \n",
        "- $b_{ik}$ describes the sensitivity of the asset i to factor k, knowns as __factor loading__ coefficient of asset i to factor k.\n",
        "\n",
        "While APT sets the foundational framework for understanding the mechanism that affects the asset, it does not describe what the factors are. After devoting many resources into studying of this problem, Barra proposed the __Barra Multi-factor model__, the baseline multifactor model the industry uses today. \n",
        "\n",
        "This notebook attempts to explore the general process involved in the construction of a multi-factor model. "
      ]
    },
    {
      "cell_type": "markdown",
      "metadata": {
        "id": "_b3QI8aareSH"
      },
      "source": [
        "### 1. Categories of Factors\n",
        "\n",
        "The first step to construct multi-factor is to choose the approriate factors. Generally speaking, factors can be categorized into three classes: \n",
        "\n",
        "- factor that reflects external impacts.\n",
        "- factors that reflects comparative cross-sectional properties.\n",
        "- internal or statistical factors. "
      ]
    },
    {
      "cell_type": "markdown",
      "metadata": {
        "id": "f3AUgkelsemt"
      },
      "source": [
        "### Barra China Equity Model(CNE5)\n",
        "\n",
        "The ten style of CNE5 comprise of total of 21 descriptors. Below we will go through each style of factors and provide their definition and expression. \n",
        "\n",
        "> __Beta__\n",
        "\n",
        "Components: __Beta__ Beta($\\beta$)\n",
        "\n",
        "Computed at the slope coefficient in the time-series regression of excess stock return $r_t - r_{ft}$, against the cap-weighted excess return of the estimation universe $R_t$:\n",
        "\n",
        "$$r_t - r_{ft} = a + \\beta R_t + e_t$$\n",
        "\n",
        "The regression cofficients are estimated over the trailling 252 trading days of returns with half life of 63 trading days. \\\n",
        "\n",
        "\n",
        "> __Momentum__\n",
        "\n",
        "Components: __RSTR__ Relative Strength\n",
        "\n",
        "Computed at the sume of excess log returns over the trailling T = 504 trading days with a lag of $L = 21$ trading days. \n",
        "\n",
        "$$RSTR = \\sum^{T+L}_{t=L}w_t [\\ln(1+r_t) - \\ln(1+r_{ft})]$$\n",
        "\n",
        "Where $r_t$ is the stock return on day $t$, $r_{ft}$ is the risk-free return, $w_t$ is an exponential weight with a half-life of 126 trading days. \n",
        "\n",
        "> __Size__\n",
        "\n",
        "Components: __LNCAP__ Natural log of Market cap\n",
        "\n",
        "Computed by taking the logarithm of the total market capitalization of the firm. \n",
        "\n",
        "> __Earnings Yield__\n",
        "\n",
        "Definition: 0.68 * EPIBS + 0.11 * ETOP + 0.21 * CETOP\n",
        "\n",
        "Components: \n",
        "\n",
        "__EPIBS__: Analyst Predicted Earnings-to-Price. \n",
        "\n",
        "Earning ratios forecasted by analysts. \n",
        "\n",
        "__ETOP__: Trailing earnings-to-price ratio. \n",
        "\n",
        "Computed by dividing the trailing 12-month earnings by the current market capitalization. Trailing earnings are defined \n",
        "\n"
      ]
    },
    {
      "cell_type": "code",
      "metadata": {
        "id": "jB1T2f1MnTcP"
      },
      "source": [
        "# Necessary Imports\n",
        "import numpy as np\n",
        "import pandas as pd\n",
        "\n",
        "# Reading the Data into the dataframe"
      ],
      "execution_count": null,
      "outputs": []
    }
  ]
}