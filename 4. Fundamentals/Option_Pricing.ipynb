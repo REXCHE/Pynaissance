{
  "nbformat": 4,
  "nbformat_minor": 5,
  "metadata": {
    "kernelspec": {
      "display_name": "Python 3",
      "language": "python",
      "name": "python3"
    },
    "language_info": {
      "codemirror_mode": {
        "name": "ipython",
        "version": 3
      },
      "file_extension": ".py",
      "mimetype": "text/x-python",
      "name": "python",
      "nbconvert_exporter": "python",
      "pygments_lexer": "ipython3",
      "version": "3.8.8"
    },
    "colab": {
      "name": "Option_Pricing.ipynb",
      "provenance": [],
      "include_colab_link": true
    }
  },
  "cells": [
    {
      "cell_type": "markdown",
      "metadata": {
        "id": "view-in-github",
        "colab_type": "text"
      },
      "source": [
        "<a href=\"https://colab.research.google.com/github/conquerv0/Pynaissance/blob/master/4.%20Fundamentals/Option_Pricing.ipynb\" target=\"_parent\"><img src=\"https://colab.research.google.com/assets/colab-badge.svg\" alt=\"Open In Colab\"/></a>"
      ]
    },
    {
      "cell_type": "markdown",
      "metadata": {
        "id": "0957b769"
      },
      "source": [
        "### Option Pricing With Black Scholes Model and Various Exploration\n",
        "Author: Victor Xiao"
      ],
      "id": "0957b769"
    },
    {
      "cell_type": "code",
      "metadata": {
        "id": "1935be6c"
      },
      "source": [
        "#Upload necessary packages\n",
        "import pandas as pd\n",
        "from py_vollib.black_scholes  import black_scholes as bs\n",
        "from py_vollib.black_scholes.implied_volatility import implied_volatility as iv\n",
        "import numpy\n",
        "from datetime import date"
      ],
      "id": "1935be6c",
      "execution_count": null,
      "outputs": []
    },
    {
      "cell_type": "markdown",
      "metadata": {
        "id": "6dfc3b2b"
      },
      "source": [
        "### 1. Data Cleaning and Exploration\n",
        "First, we need to set up the dataframe by reading the option data from excel. "
      ],
      "id": "6dfc3b2b"
    },
    {
      "cell_type": "code",
      "metadata": {
        "id": "f1713e1b",
        "outputId": "1d782c12-82a3-4b25-d1ce-11f812d52f2e"
      },
      "source": [
        "# Company is amazon. Set the current stock price and risk-free rate r\n",
        "stock=3206.22\n",
        "r=0\n",
        "# Calculate T\n",
        "delta = date(2021, 12, 17) - date(2021, 6, 4)\n",
        "t=delta.days/365\n",
        "\n",
        "# Read the \"Data\" spreadsheet from the \"Tutorial 3\" excel file and upload it to the dataset \"option_data\"\n",
        "option_data=pd.read_excel('Assignment2_Data.xlsx', sheet_name='Data')\n",
        "option_data=option_data.drop(['Stock Price', 'r'], axis=1)\n",
        "option_data.head()\n",
        "\n",
        "# option_data[\"ImpVol\"] = numpy.nan"
      ],
      "id": "f1713e1b",
      "execution_count": null,
      "outputs": [
        {
          "output_type": "execute_result",
          "data": {
            "text/html": [
              "<div>\n",
              "<style scoped>\n",
              "    .dataframe tbody tr th:only-of-type {\n",
              "        vertical-align: middle;\n",
              "    }\n",
              "\n",
              "    .dataframe tbody tr th {\n",
              "        vertical-align: top;\n",
              "    }\n",
              "\n",
              "    .dataframe thead th {\n",
              "        text-align: right;\n",
              "    }\n",
              "</style>\n",
              "<table border=\"1\" class=\"dataframe\">\n",
              "  <thead>\n",
              "    <tr style=\"text-align: right;\">\n",
              "      <th></th>\n",
              "      <th>Strike</th>\n",
              "      <th>Bid</th>\n",
              "      <th>Ask</th>\n",
              "      <th>Last Price</th>\n",
              "      <th>Implied Volatility</th>\n",
              "      <th>Open Interest</th>\n",
              "      <th>average price</th>\n",
              "      <th>Intrinsic value</th>\n",
              "      <th>Time Values</th>\n",
              "    </tr>\n",
              "  </thead>\n",
              "  <tbody>\n",
              "    <tr>\n",
              "      <th>0</th>\n",
              "      <td>1480</td>\n",
              "      <td>1921.70</td>\n",
              "      <td>1939.0</td>\n",
              "      <td>1585.00</td>\n",
              "      <td>1.1887</td>\n",
              "      <td>0</td>\n",
              "      <td>1930.350</td>\n",
              "      <td>1750.11</td>\n",
              "      <td>188.89</td>\n",
              "    </tr>\n",
              "    <tr>\n",
              "      <th>1</th>\n",
              "      <td>1500</td>\n",
              "      <td>1727.70</td>\n",
              "      <td>1742.5</td>\n",
              "      <td>2000.80</td>\n",
              "      <td>0.5646</td>\n",
              "      <td>2</td>\n",
              "      <td>1735.100</td>\n",
              "      <td>1730.11</td>\n",
              "      <td>12.39</td>\n",
              "    </tr>\n",
              "    <tr>\n",
              "      <th>2</th>\n",
              "      <td>1540</td>\n",
              "      <td>1688.15</td>\n",
              "      <td>1703.0</td>\n",
              "      <td>1757.00</td>\n",
              "      <td>0.5510</td>\n",
              "      <td>1</td>\n",
              "      <td>1695.575</td>\n",
              "      <td>1690.11</td>\n",
              "      <td>12.89</td>\n",
              "    </tr>\n",
              "    <tr>\n",
              "      <th>3</th>\n",
              "      <td>1640</td>\n",
              "      <td>1613.95</td>\n",
              "      <td>1628.8</td>\n",
              "      <td>1564.85</td>\n",
              "      <td>0.6453</td>\n",
              "      <td>0</td>\n",
              "      <td>1621.375</td>\n",
              "      <td>1590.11</td>\n",
              "      <td>38.69</td>\n",
              "    </tr>\n",
              "    <tr>\n",
              "      <th>4</th>\n",
              "      <td>1780</td>\n",
              "      <td>1452.30</td>\n",
              "      <td>1467.0</td>\n",
              "      <td>1440.40</td>\n",
              "      <td>0.5184</td>\n",
              "      <td>4</td>\n",
              "      <td>1459.650</td>\n",
              "      <td>1450.11</td>\n",
              "      <td>16.89</td>\n",
              "    </tr>\n",
              "  </tbody>\n",
              "</table>\n",
              "</div>"
            ],
            "text/plain": [
              "   Strike      Bid     Ask  Last Price  Implied Volatility  Open Interest  \\\n",
              "0    1480  1921.70  1939.0     1585.00              1.1887              0   \n",
              "1    1500  1727.70  1742.5     2000.80              0.5646              2   \n",
              "2    1540  1688.15  1703.0     1757.00              0.5510              1   \n",
              "3    1640  1613.95  1628.8     1564.85              0.6453              0   \n",
              "4    1780  1452.30  1467.0     1440.40              0.5184              4   \n",
              "\n",
              "   average price   Intrinsic value   Time Values   \n",
              "0        1930.350           1750.11        188.89  \n",
              "1        1735.100           1730.11         12.39  \n",
              "2        1695.575           1690.11         12.89  \n",
              "3        1621.375           1590.11         38.69  \n",
              "4        1459.650           1450.11         16.89  "
            ]
          },
          "metadata": {
            "tags": []
          },
          "execution_count": 2
        }
      ]
    },
    {
      "cell_type": "code",
      "metadata": {
        "id": "2428a70e",
        "outputId": "08f3a721-d007-4791-f3bb-22291eb55fbe"
      },
      "source": [
        "#Calculate the average call price\n",
        "option_data[\"average price\"]=(option_data[\"Bid\"]+option_data[\"Ask\"])/2\n",
        "\n",
        "#Plot the relation between strike prices and the call prices\n",
        "option_data.plot(x=\"Strike\", y=\"average price\")"
      ],
      "id": "2428a70e",
      "execution_count": null,
      "outputs": [
        {
          "output_type": "execute_result",
          "data": {
            "text/plain": [
              "<AxesSubplot:xlabel='Strike'>"
            ]
          },
          "metadata": {
            "tags": []
          },
          "execution_count": 3
        },
        {
          "output_type": "display_data",
          "data": {
            "image/png": "[encoded data removed]",
            "text/plain": [
              "<Figure size 432x288 with 1 Axes>"
            ]
          },
          "metadata": {
            "tags": [],
            "needs_background": "light"
          }
        }
      ]
    },
    {
      "cell_type": "markdown",
      "metadata": {
        "id": "8308f8de"
      },
      "source": [
        "### 2-1. In-the-money call\n",
        "For this example, we select an equity option that is in the money. "
      ],
      "id": "8308f8de"
    },
    {
      "cell_type": "code",
      "metadata": {
        "id": "6d9e4931",
        "outputId": "3e407bed-5450-4c90-b733-d37def7c818c"
      },
      "source": [
        "itm_call=option_data[option_data[\"Strike\"]==2880]\n",
        "itm_call"
      ],
      "id": "6d9e4931",
      "execution_count": null,
      "outputs": [
        {
          "output_type": "execute_result",
          "data": {
            "text/html": [
              "<div>\n",
              "<style scoped>\n",
              "    .dataframe tbody tr th:only-of-type {\n",
              "        vertical-align: middle;\n",
              "    }\n",
              "\n",
              "    .dataframe tbody tr th {\n",
              "        vertical-align: top;\n",
              "    }\n",
              "\n",
              "    .dataframe thead th {\n",
              "        text-align: right;\n",
              "    }\n",
              "</style>\n",
              "<table border=\"1\" class=\"dataframe\">\n",
              "  <thead>\n",
              "    <tr style=\"text-align: right;\">\n",
              "      <th></th>\n",
              "      <th>Strike</th>\n",
              "      <th>Bid</th>\n",
              "      <th>Ask</th>\n",
              "      <th>Last Price</th>\n",
              "      <th>Implied Volatility</th>\n",
              "      <th>Open Interest</th>\n",
              "      <th>average price</th>\n",
              "      <th>Intrinsic value</th>\n",
              "      <th>Time Values</th>\n",
              "      <th>average price</th>\n",
              "    </tr>\n",
              "  </thead>\n",
              "  <tbody>\n",
              "    <tr>\n",
              "      <th>25</th>\n",
              "      <td>2880</td>\n",
              "      <td>467.25</td>\n",
              "      <td>478.1</td>\n",
              "      <td>735.5</td>\n",
              "      <td>0.3037</td>\n",
              "      <td>10</td>\n",
              "      <td>472.675</td>\n",
              "      <td>350.11</td>\n",
              "      <td>127.99</td>\n",
              "      <td>472.675</td>\n",
              "    </tr>\n",
              "  </tbody>\n",
              "</table>\n",
              "</div>"
            ],
            "text/plain": [
              "    Strike     Bid    Ask  Last Price  Implied Volatility  Open Interest  \\\n",
              "25    2880  467.25  478.1       735.5              0.3037             10   \n",
              "\n",
              "    average price   Intrinsic value   Time Values   average price  \n",
              "25         472.675            350.11        127.99        472.675  "
            ]
          },
          "metadata": {
            "tags": []
          },
          "execution_count": 4
        }
      ]
    },
    {
      "cell_type": "markdown",
      "metadata": {
        "id": "30d2a2b0"
      },
      "source": [
        "a. The underlying stock goes up 1%. "
      ],
      "id": "30d2a2b0"
    },
    {
      "cell_type": "code",
      "metadata": {
        "id": "c191e53f",
        "outputId": "bd43d190-0e82-477d-d22b-8b02bc233e9a"
      },
      "source": [
        "\"\"\"\n",
        "The parameters for py_vollib.black_scholes. \n",
        "price = black_scholes(flag, S, K, t, r, sigma)\n",
        "iv = implied_volatility(price, S, K, t, r, flag)\n",
        "\"\"\"\n",
        "price_partA=bs('c',stock*1.01,itm_call.iloc[0,0],t,r,itm_call['Implied Volatility'])\n",
        "print(\"New call price=\", price_partA, \" Dollar Return=\",price_partA-itm_call.iloc[0,6],\" % Return=\",(price_partA-itm_call.iloc[0,6])/itm_call.iloc[0,6])"
      ],
      "id": "c191e53f",
      "execution_count": null,
      "outputs": [
        {
          "output_type": "stream",
          "text": [
            "New call price= 486.75381728122727  Dollar Return= 14.07881728122726  % Return= 0.02978540705818429\n"
          ],
          "name": "stdout"
        }
      ]
    },
    {
      "cell_type": "markdown",
      "metadata": {
        "id": "b82eaa35"
      },
      "source": [
        "b. The implied volatility of the stock goes up by 1%"
      ],
      "id": "b82eaa35"
    },
    {
      "cell_type": "code",
      "metadata": {
        "id": "266e8f00",
        "outputId": "a0a87343-3cf8-4271-b81e-8fbd9939a5ec"
      },
      "source": [
        "price_partB=bs('c',stock,itm_call.iloc[0,0],t,r,itm_call['Implied Volatility']+0.01)\n",
        "print(\"New call price=\", price_partB, \" Dollar Return=\",price_partB-itm_call.iloc[0,6],\" % Return=\",(price_partB-itm_call.iloc[0,6])/itm_call.iloc[0,6])"
      ],
      "id": "266e8f00",
      "execution_count": null,
      "outputs": [
        {
          "output_type": "stream",
          "text": [
            "New call price= 471.20457070585303  Dollar Return= -1.4704292941469816  % Return= -0.003110867497005303\n"
          ],
          "name": "stdout"
        }
      ]
    },
    {
      "cell_type": "markdown",
      "metadata": {
        "id": "3e8c2dee"
      },
      "source": [
        "c. Interest rate goes up by 1%"
      ],
      "id": "3e8c2dee"
    },
    {
      "cell_type": "code",
      "metadata": {
        "id": "5d9a02b2",
        "outputId": "edde3728-e455-4655-b054-2f353bf46fec"
      },
      "source": [
        "price_partC=bs('c',stock,itm_call.iloc[0,0],t,r+0.01,itm_call['Implied Volatility'])\n",
        "print(\"New call price=\", price_partC, \" Dollar Return=\",price_partC-itm_call.iloc[0,6],\" % Return=\",(price_partC-itm_call.iloc[0,6])/itm_call.iloc[0,6])"
      ],
      "id": "5d9a02b2",
      "execution_count": null,
      "outputs": [
        {
          "output_type": "stream",
          "text": [
            "New call price= 473.3288517057745  Dollar Return= 0.6538517057745139  % Return= 0.00138330080028458\n"
          ],
          "name": "stdout"
        }
      ]
    },
    {
      "cell_type": "markdown",
      "metadata": {
        "id": "0649efd0"
      },
      "source": [
        "d. One month eplased, with no change"
      ],
      "id": "0649efd0"
    },
    {
      "cell_type": "code",
      "metadata": {
        "scrolled": true,
        "id": "d9b7366b",
        "outputId": "7b416387-dae8-47d6-cc9d-7bc8ecbceede"
      },
      "source": [
        "#Part D\n",
        "delta_new=date(2021, 12, 17) - date(2021, 7, 4)\n",
        "t_new=delta_new.days/365\n",
        "price_partD=bs('c',stock,itm_call.iloc[0,0],t_new,r,itm_call['Implied Volatility'])\n",
        "print(\"New call price=\", price_partD, \" Dollar Return=\",price_partD-itm_call.iloc[0,6],\" % Return=\",(price_partD-itm_call.iloc[0,6])/itm_call.iloc[0,6])"
      ],
      "id": "d9b7366b",
      "execution_count": null,
      "outputs": [
        {
          "output_type": "stream",
          "text": [
            "New call price= 444.47187119408056  Dollar Return= -28.203128805919448  % Return= -0.05966706258194203\n"
          ],
          "name": "stdout"
        }
      ]
    },
    {
      "cell_type": "markdown",
      "metadata": {
        "id": "1ec297e6"
      },
      "source": [
        "### 2.3 Out-of-the-money Call\n",
        "For this example, we select an equity option that is out of the money. "
      ],
      "id": "1ec297e6"
    },
    {
      "cell_type": "code",
      "metadata": {
        "scrolled": true,
        "id": "e6d847ab",
        "outputId": "adfdb139-636c-4a37-bbe6-aa707926e851"
      },
      "source": [
        "itm_put=option_data[option_data[\"Strike\"]==3600]\n",
        "itm_put"
      ],
      "id": "e6d847ab",
      "execution_count": null,
      "outputs": [
        {
          "output_type": "execute_result",
          "data": {
            "text/html": [
              "<div>\n",
              "<style scoped>\n",
              "    .dataframe tbody tr th:only-of-type {\n",
              "        vertical-align: middle;\n",
              "    }\n",
              "\n",
              "    .dataframe tbody tr th {\n",
              "        vertical-align: top;\n",
              "    }\n",
              "\n",
              "    .dataframe thead th {\n",
              "        text-align: right;\n",
              "    }\n",
              "</style>\n",
              "<table border=\"1\" class=\"dataframe\">\n",
              "  <thead>\n",
              "    <tr style=\"text-align: right;\">\n",
              "      <th></th>\n",
              "      <th>Strike</th>\n",
              "      <th>Bid</th>\n",
              "      <th>Ask</th>\n",
              "      <th>Last Price</th>\n",
              "      <th>Implied Volatility</th>\n",
              "      <th>Open Interest</th>\n",
              "      <th>average price</th>\n",
              "      <th>Intrinsic value</th>\n",
              "      <th>Time Values</th>\n",
              "      <th>average price</th>\n",
              "    </tr>\n",
              "  </thead>\n",
              "  <tbody>\n",
              "    <tr>\n",
              "      <th>89</th>\n",
              "      <td>3600</td>\n",
              "      <td>118.0</td>\n",
              "      <td>123.95</td>\n",
              "      <td>127.79</td>\n",
              "      <td>0.2705</td>\n",
              "      <td>314</td>\n",
              "      <td>120.975</td>\n",
              "      <td>0.0</td>\n",
              "      <td>123.95</td>\n",
              "      <td>120.975</td>\n",
              "    </tr>\n",
              "  </tbody>\n",
              "</table>\n",
              "</div>"
            ],
            "text/plain": [
              "    Strike    Bid     Ask  Last Price  Implied Volatility  Open Interest  \\\n",
              "89    3600  118.0  123.95      127.79              0.2705            314   \n",
              "\n",
              "    average price   Intrinsic value   Time Values   average price  \n",
              "89         120.975               0.0        123.95        120.975  "
            ]
          },
          "metadata": {
            "tags": []
          },
          "execution_count": 9
        }
      ]
    },
    {
      "cell_type": "markdown",
      "metadata": {
        "id": "3281875a"
      },
      "source": [
        "a. The underlying stock goes up 1%. "
      ],
      "id": "3281875a"
    },
    {
      "cell_type": "code",
      "metadata": {
        "scrolled": true,
        "id": "1a3b6781",
        "outputId": "8f0b2ae5-db27-4da7-bf78-b48162ee90b0"
      },
      "source": [
        "price_partA=bs('c',stock*1.01,itm_put.iloc[0,0],t,r,itm_put['Implied Volatility'])\n",
        "print(\"New put price=\", price_partA, \" Dollar Return=\",price_partA-itm_put.iloc[0,6],\" % Return=\",(price_partA-itm_put.iloc[0,6])/itm_put.iloc[0,6])"
      ],
      "id": "1a3b6781",
      "execution_count": null,
      "outputs": [
        {
          "output_type": "stream",
          "text": [
            "New put price= 126.53997490241304  Dollar Return= 5.5649749024130415  % Return= 0.0460010324646666\n"
          ],
          "name": "stdout"
        }
      ]
    },
    {
      "cell_type": "markdown",
      "metadata": {
        "id": "d3613917"
      },
      "source": [
        "b. The implied volatility of the stock goes up by 1%"
      ],
      "id": "d3613917"
    },
    {
      "cell_type": "code",
      "metadata": {
        "id": "466b4e1c",
        "outputId": "d39bbbe3-b05e-4ea4-9670-e34d045958ab"
      },
      "source": [
        "price_partB=bs('c',stock,itm_put.iloc[0,0],t,r,itm_put['Implied Volatility']+0.01)\n",
        "print(\"New put price=\", price_partB, \" Dollar Return=\",price_partB-itm_put.iloc[0,6],\" % Return=\",(price_partB-itm_put.iloc[0,6])/itm_put.iloc[0,6])"
      ],
      "id": "466b4e1c",
      "execution_count": null,
      "outputs": [
        {
          "output_type": "stream",
          "text": [
            "New put price= 124.57414858700557  Dollar Return= 3.5991485870055726  % Return= 0.029751176581984482\n"
          ],
          "name": "stdout"
        }
      ]
    },
    {
      "cell_type": "markdown",
      "metadata": {
        "id": "f13f8a60"
      },
      "source": [
        "c. Interest rate goes up by 1%"
      ],
      "id": "f13f8a60"
    },
    {
      "cell_type": "code",
      "metadata": {
        "id": "4a07cdf6",
        "outputId": "3c06b617-9b42-4b42-fef3-1b80a9bc6356"
      },
      "source": [
        "price_partC=bs('c',stock,itm_put.iloc[0,0],t,r+0.01,itm_put['Implied Volatility'])\n",
        "print(\"New put price=\", price_partC, \" Dollar Return=\",price_partC-itm_put.iloc[0,6],\" % Return=\",(price_partC-itm_put.iloc[0,6])/itm_put.iloc[0,6])"
      ],
      "id": "4a07cdf6",
      "execution_count": null,
      "outputs": [
        {
          "output_type": "stream",
          "text": [
            "New put price= 121.04056361286852  Dollar Return= 0.06556361286853019  % Return= 0.0005419600154455894\n"
          ],
          "name": "stdout"
        }
      ]
    },
    {
      "cell_type": "markdown",
      "metadata": {
        "id": "27da010c"
      },
      "source": [
        "d. One month eplased, with no change"
      ],
      "id": "27da010c"
    },
    {
      "cell_type": "code",
      "metadata": {
        "scrolled": true,
        "id": "cfbf6d46",
        "outputId": "417f1925-8974-4e41-8be6-0291e759bc1f"
      },
      "source": [
        "#Part D\n",
        "delta_new=date(2021, 12, 17) - date(2021, 7, 4)\n",
        "t_new=delta_new.days/365\n",
        "price_partD=bs('c',stock,itm_put.iloc[0,0],t_new,r,itm_put['Implied Volatility'])\n",
        "print(\"New put price=\", price_partD, \" Dollar Return=\",price_partD-itm_put.iloc[0,6],\" % Return=\",(price_partD-itm_put.iloc[0,6])/itm_put.iloc[0,6])"
      ],
      "id": "cfbf6d46",
      "execution_count": null,
      "outputs": [
        {
          "output_type": "stream",
          "text": [
            "New put price= 98.48491764359014  Dollar Return= -22.490082356409857  % Return= -0.18590685973473742\n"
          ],
          "name": "stdout"
        }
      ]
    }
  ]
}